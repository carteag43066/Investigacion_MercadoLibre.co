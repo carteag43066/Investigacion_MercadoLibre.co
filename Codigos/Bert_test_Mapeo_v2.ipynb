{
  "cells": [
    {
      "cell_type": "code",
      "execution_count": 1,
      "metadata": {
        "colab": {
          "base_uri": "https://localhost:8080/"
        },
        "id": "38b3BbOGp07f",
        "outputId": "505a79e5-2421-4b20-e57d-a26ae9200be3"
      },
      "outputs": [],
      "source": [
        "#!pip install transformers datasets tensorflow\n"
      ]
    },
    {
      "cell_type": "code",
      "execution_count": 2,
      "metadata": {
        "id": "1Uu2Kf9BtNUI"
      },
      "outputs": [],
      "source": [
        "import pandas as pd\n",
        "from sklearn.model_selection import train_test_split\n",
        "import tensorflow as tf\n",
        "from transformers import BertTokenizer, TFBertForSequenceClassification"
      ]
    },
    {
      "cell_type": "code",
      "execution_count": 3,
      "metadata": {
        "id": "2rcwAqedtQtO"
      },
      "outputs": [],
      "source": [
        "# Configuración\n",
        "MAX_LEN = 128\n",
        "BATCH_SIZE = 16\n",
        "EPOCHS = 3\n",
        "MODEL_NAME = \"dccuchile/bert-base-spanish-wwm-cased\"\n",
        "NUM_CLASSES = 2  # negativo, positivo"
      ]
    },
    {
      "cell_type": "code",
      "execution_count": 4,
      "metadata": {
        "colab": {
          "base_uri": "https://localhost:8080/",
          "height": 414,
          "referenced_widgets": [
            "d4e62f6e599b43d4b8cfd1551bbcbb85",
            "698d89b8c369477cba482bb8b7d6ccd0",
            "0688a8082d14433db64ccccb2e4fbd41",
            "ecedc867ddd44495bed492661b2a0f6c",
            "297c4c8d5ef74f9d941a97afc59254b4",
            "079137cdc8d14816b4e994dde5e35116",
            "1f4828089d3848ce8c1878c1b401930a",
            "a6e66cebc45142ed9e56a54875b8d562",
            "0ae59c90337d49718c69c8747a82fecf",
            "05bd3ee002f14111a4b8e590d4bcd0a3",
            "5c8b3a9540aa4f2ca20961b2ba840ce6",
            "fffe043f85de46228cb937502c326202",
            "50e9c0878004427ea517281bd74b4f9f",
            "f62bc27e94304338b6eccbda7e45712b",
            "1a1f133f8e884751953b87dc034cfe26",
            "b212052219864d6687474133c3bedb7c",
            "1eeb5ea4477b4dafacbad537db85fcd9",
            "f76293bc5a3042c89a3c8de2536a7187",
            "a434feacfa904edf81be186d81b1daeb",
            "350cc823755c4b81a624d70b77167e8b",
            "57f7563b65b746918d12cc1c3b951081",
            "dac1235f8e35400c852075e435e831e5",
            "4e91af90a18b4ecbbe0481bfdf9eaf45",
            "61f18f6ad21c4d7eac676b87bc1d9b54",
            "fb09a7be261947cb8366262f613f7c3b",
            "5f8c1ee6ce5842818f44778f284f8c43",
            "3c7b3661089c41e89e9d66de53c3607c",
            "6df3678aa66143cc99cef8fdc243a421",
            "a796c434763549de821ef591ad941d18",
            "f147298b6d334249bfff60e515d025dc",
            "6f71ce90d0b849d28c7743fb30fece33",
            "3e22476aa7024e20acffc96a8bb89cff",
            "a3545659d9d94389aeefa5ace6ddb865",
            "70151ce8365e4bb3ba716b56bd03ec3f",
            "096f6924bb994ed9b257e7367afa2d23",
            "d41110c12e7f42ca9116457b16a2ac6e",
            "22fbd387dbcf44e096318f78edb82222",
            "8fbda968f1e54d02b1b3efed5fe5e1d8",
            "ce7f50e48f0542998892bfd55fd96f64",
            "c82a1a9c4be34e51b6244feebd65604d",
            "2dbad4bea87a49308e001d90fa3e75ec",
            "a59261c96fc244048055751ce95dfa57",
            "b81dd09ec3dc4fe7b8a427e3d5908ecd",
            "19ca5a6ea480486ba1550a0ea64b3b02",
            "0f555dc0816d435a9d8b4de23e3b93d1",
            "601d2e88ba9a4422b5c96bbf244bdeaa",
            "b794e304cf2b4f4a913f740d0723db94",
            "d62c7cb0c89e4be8bd2f0c6c79db4b00",
            "6bb7afcf5ab04505b545992d23359a26",
            "bd3ea585d3744cd6bf16b831fbc636e0",
            "43f0d277550f456988a7ae11bcf83621",
            "0f6427b62f5c42cbbd4a2c2639d8ef0e",
            "39cac10bcbb343a38b18e25be6768bf8",
            "5171125680824453b3759ffc2ef06d13",
            "23ac61e75db74da8b95cf41eb56a1df1",
            "68101cd2bac84b6d82d5807d8e764cd4",
            "6ecb472ce8244a7c86e4c4465f41b0a7",
            "7f47730d35a84867b60fce6301041f8a",
            "a3bc7b8646144d2abb210dd77039beda",
            "83aa9329a1ab40708579a72ec0477e31",
            "3ad57f9a261041d5bcadcf39ae8fe448",
            "a2371c541e8d4415bba564c1f8b0e9d2",
            "64d2dc39ee824a0eba84414b269df72f",
            "8fa605f405464776b9866db4b31b2667",
            "58402aeceb054969aa940f7564331488",
            "51f4ec4b6aa745c0b9caff1653354f7b"
          ]
        },
        "id": "eaAcd-WwtSm2",
        "outputId": "dac3545a-a756-44d3-8755-a4bec418a378"
      },
      "outputs": [
        {
          "name": "stderr",
          "output_type": "stream",
          "text": [
            "c:\\Users\\aluca\\miniconda3\\envs\\tf_im_test\\lib\\site-packages\\huggingface_hub\\file_download.py:943: FutureWarning: `resume_download` is deprecated and will be removed in version 1.0.0. Downloads always resume when possible. If you want to force a new download, use `force_download=True`.\n",
            "  warnings.warn(\n",
            "All model checkpoint layers were used when initializing TFBertForSequenceClassification.\n",
            "\n",
            "Some layers of TFBertForSequenceClassification were not initialized from the model checkpoint at dccuchile/bert-base-spanish-wwm-cased and are newly initialized: ['classifier', 'bert/pooler/dense/kernel:0', 'bert/pooler/dense/bias:0']\n",
            "You should probably TRAIN this model on a down-stream task to be able to use it for predictions and inference.\n"
          ]
        }
      ],
      "source": [
        "# 1. Cargar tokenizer y modelo\n",
        "tokenizer = BertTokenizer.from_pretrained(MODEL_NAME)\n",
        "model = TFBertForSequenceClassification.from_pretrained(MODEL_NAME, num_labels=NUM_CLASSES)"
      ]
    },
    {
      "cell_type": "code",
      "execution_count": 5,
      "metadata": {
        "id": "hHvXmGG2tVrb"
      },
      "outputs": [],
      "source": [
        "# 2. Leer y limpiar el dataset\n",
        "df = pd.read_excel('../Datos/DB_Comentarios_Clean.xlsx')\n",
        "df = df.dropna()"
      ]
    },
    {
      "cell_type": "code",
      "execution_count": 6,
      "metadata": {
        "colab": {
          "base_uri": "https://localhost:8080/"
        },
        "id": "4ZcxhDXFtX4P",
        "outputId": "545e749c-4c59-4e15-b323-ccfe85d8b34a"
      },
      "outputs": [
        {
          "name": "stderr",
          "output_type": "stream",
          "text": [
            "c:\\Users\\aluca\\miniconda3\\envs\\tf_im_test\\lib\\site-packages\\huggingface_hub\\file_download.py:943: FutureWarning: `resume_download` is deprecated and will be removed in version 1.0.0. Downloads always resume when possible. If you want to force a new download, use `force_download=True`.\n",
            "  warnings.warn(\n",
            "All model checkpoint layers were used when initializing TFBertForSequenceClassification.\n",
            "\n",
            "Some layers of TFBertForSequenceClassification were not initialized from the model checkpoint at dccuchile/bert-base-spanish-wwm-cased and are newly initialized: ['classifier', 'bert/pooler/dense/kernel:0', 'bert/pooler/dense/bias:0']\n",
            "You should probably TRAIN this model on a down-stream task to be able to use it for predictions and inference.\n"
          ]
        }
      ],
      "source": [
        "import pandas as pd\n",
        "from sklearn.model_selection import train_test_split\n",
        "import tensorflow as tf\n",
        "from transformers import BertTokenizer, TFBertForSequenceClassification\n",
        "\n",
        "# Configuración\n",
        "MAX_LEN = 128\n",
        "BATCH_SIZE = 16\n",
        "EPOCHS = 3\n",
        "MODEL_NAME = \"dccuchile/bert-base-spanish-wwm-cased\"\n",
        "NUM_CLASSES = 2  # negativo, positivo\n",
        "\n",
        "# 1. Cargar tokenizer y modelo\n",
        "tokenizer = BertTokenizer.from_pretrained(MODEL_NAME)\n",
        "model = TFBertForSequenceClassification.from_pretrained(MODEL_NAME, num_labels=NUM_CLASSES)\n",
        "\n",
        "# 2. Leer y limpiar el dataset\n",
        "df = pd.read_excel('../Datos/DB_Comentarios_Clean.xlsx')\n",
        "df = df.dropna()\n",
        "\n",
        "# 3. Mapear calificaciones a sentimientos\n",
        "rating_to_label = {\n",
        "    1: \"negativo\",\n",
        "    2: \"negativo\",\n",
        "    3: \"negativo\",\n",
        "    4: \"positivo\",\n",
        "    5: \"positivo\",\n",
        "}\n",
        "df[\"sentimiento\"] = df[\"calificacion\"].map(rating_to_label)\n",
        "\n",
        "# 4. Codificar sentimiento a números\n",
        "label_to_int = {\"negativo\": 0, \"positivo\": 1}\n",
        "df[\"sentimiento_id\"] = df[\"sentimiento\"].map(label_to_int)"
      ]
    },
    {
      "cell_type": "code",
      "execution_count": 7,
      "metadata": {},
      "outputs": [
        {
          "data": {
            "application/vnd.microsoft.datawrangler.viewer.v0+json": {
              "columns": [
                {
                  "name": "index",
                  "rawType": "int64",
                  "type": "integer"
                },
                {
                  "name": "fecha",
                  "rawType": "object",
                  "type": "string"
                },
                {
                  "name": "calificacion",
                  "rawType": "int64",
                  "type": "integer"
                },
                {
                  "name": "comentario",
                  "rawType": "object",
                  "type": "string"
                },
                {
                  "name": "comentarios_limpios_spacy",
                  "rawType": "object",
                  "type": "string"
                },
                {
                  "name": "sentimiento",
                  "rawType": "object",
                  "type": "string"
                },
                {
                  "name": "sentimiento_id",
                  "rawType": "int64",
                  "type": "integer"
                }
              ],
              "conversionMethod": "pd.DataFrame",
              "ref": "ac2c8bc5-1de0-4f01-8f7e-de67d446f2de",
              "rows": [
                [
                  "0",
                  "01 ene. 2024",
                  "1",
                  "Producto con terminados horribles, manchado, pintura corrida, los dientes de las babuchas mal pintadas. No lo recomiendo, es una réplica del centro de la ciudad.",
                  "terminado horrible manchado pintura corrido diente babucha pintada recomeir replica centro ciudad",
                  "negativo",
                  "0"
                ],
                [
                  "1",
                  "01 may. 2023",
                  "1",
                  "El producto es un poco ordinario y tuve que mandarlo reparar muy rápido casi a los 2 meses de haber comprado las pantuflas.",
                  "ordinario tener mandar él reparar rapido mes comprar pantufla",
                  "negativo",
                  "0"
                ],
                [
                  "2",
                  "02 oct. 2024",
                  "1",
                  "Talla incorrecta.",
                  "tallar incorrecto",
                  "negativo",
                  "0"
                ],
                [
                  "3",
                  "02 sep. 2019",
                  "1",
                  "Definitivamente no cuadra en el pie.",
                  "definitivamente cuadrar pie",
                  "negativo",
                  "0"
                ],
                [
                  "4",
                  "03 ene. 2025",
                  "1",
                  "No son nada cómodos, la plantilla se corre y la suela es muy delgada.",
                  "comodo plantilla correr suela delgado",
                  "negativo",
                  "0"
                ]
              ],
              "shape": {
                "columns": 6,
                "rows": 5
              }
            },
            "text/html": [
              "<div>\n",
              "<style scoped>\n",
              "    .dataframe tbody tr th:only-of-type {\n",
              "        vertical-align: middle;\n",
              "    }\n",
              "\n",
              "    .dataframe tbody tr th {\n",
              "        vertical-align: top;\n",
              "    }\n",
              "\n",
              "    .dataframe thead th {\n",
              "        text-align: right;\n",
              "    }\n",
              "</style>\n",
              "<table border=\"1\" class=\"dataframe\">\n",
              "  <thead>\n",
              "    <tr style=\"text-align: right;\">\n",
              "      <th></th>\n",
              "      <th>fecha</th>\n",
              "      <th>calificacion</th>\n",
              "      <th>comentario</th>\n",
              "      <th>comentarios_limpios_spacy</th>\n",
              "      <th>sentimiento</th>\n",
              "      <th>sentimiento_id</th>\n",
              "    </tr>\n",
              "  </thead>\n",
              "  <tbody>\n",
              "    <tr>\n",
              "      <th>0</th>\n",
              "      <td>01 ene. 2024</td>\n",
              "      <td>1</td>\n",
              "      <td>Producto con terminados horribles, manchado, p...</td>\n",
              "      <td>terminado horrible manchado pintura corrido di...</td>\n",
              "      <td>negativo</td>\n",
              "      <td>0</td>\n",
              "    </tr>\n",
              "    <tr>\n",
              "      <th>1</th>\n",
              "      <td>01 may. 2023</td>\n",
              "      <td>1</td>\n",
              "      <td>El producto es un poco ordinario y tuve que ma...</td>\n",
              "      <td>ordinario tener mandar él reparar rapido mes c...</td>\n",
              "      <td>negativo</td>\n",
              "      <td>0</td>\n",
              "    </tr>\n",
              "    <tr>\n",
              "      <th>2</th>\n",
              "      <td>02 oct. 2024</td>\n",
              "      <td>1</td>\n",
              "      <td>Talla incorrecta.</td>\n",
              "      <td>tallar incorrecto</td>\n",
              "      <td>negativo</td>\n",
              "      <td>0</td>\n",
              "    </tr>\n",
              "    <tr>\n",
              "      <th>3</th>\n",
              "      <td>02 sep. 2019</td>\n",
              "      <td>1</td>\n",
              "      <td>Definitivamente no cuadra en el pie.</td>\n",
              "      <td>definitivamente cuadrar pie</td>\n",
              "      <td>negativo</td>\n",
              "      <td>0</td>\n",
              "    </tr>\n",
              "    <tr>\n",
              "      <th>4</th>\n",
              "      <td>03 ene. 2025</td>\n",
              "      <td>1</td>\n",
              "      <td>No son nada cómodos, la plantilla se corre y l...</td>\n",
              "      <td>comodo plantilla correr suela delgado</td>\n",
              "      <td>negativo</td>\n",
              "      <td>0</td>\n",
              "    </tr>\n",
              "  </tbody>\n",
              "</table>\n",
              "</div>"
            ],
            "text/plain": [
              "          fecha  calificacion  \\\n",
              "0  01 ene. 2024             1   \n",
              "1  01 may. 2023             1   \n",
              "2  02 oct. 2024             1   \n",
              "3  02 sep. 2019             1   \n",
              "4  03 ene. 2025             1   \n",
              "\n",
              "                                          comentario  \\\n",
              "0  Producto con terminados horribles, manchado, p...   \n",
              "1  El producto es un poco ordinario y tuve que ma...   \n",
              "2                                  Talla incorrecta.   \n",
              "3               Definitivamente no cuadra en el pie.   \n",
              "4  No son nada cómodos, la plantilla se corre y l...   \n",
              "\n",
              "                           comentarios_limpios_spacy sentimiento  \\\n",
              "0  terminado horrible manchado pintura corrido di...    negativo   \n",
              "1  ordinario tener mandar él reparar rapido mes c...    negativo   \n",
              "2                                  tallar incorrecto    negativo   \n",
              "3                        definitivamente cuadrar pie    negativo   \n",
              "4              comodo plantilla correr suela delgado    negativo   \n",
              "\n",
              "   sentimiento_id  \n",
              "0               0  \n",
              "1               0  \n",
              "2               0  \n",
              "3               0  \n",
              "4               0  "
            ]
          },
          "execution_count": 7,
          "metadata": {},
          "output_type": "execute_result"
        }
      ],
      "source": [
        "df.head()"
      ]
    },
    {
      "cell_type": "code",
      "execution_count": 8,
      "metadata": {},
      "outputs": [
        {
          "data": {
            "text/plain": [
              "sentimiento_id\n",
              "1    4073\n",
              "0     400\n",
              "Name: count, dtype: int64"
            ]
          },
          "execution_count": 8,
          "metadata": {},
          "output_type": "execute_result"
        }
      ],
      "source": [
        "df[\"sentimiento_id\"].value_counts()"
      ]
    },
    {
      "cell_type": "code",
      "execution_count": 9,
      "metadata": {
        "id": "FHVPX_pVtljS"
      },
      "outputs": [],
      "source": [
        "# 5. Dividir en train/test\n",
        "df_train, df_test = train_test_split(df, test_size=0.2, stratify=df[\"sentimiento_id\"], random_state=42)"
      ]
    },
    {
      "cell_type": "code",
      "execution_count": 10,
      "metadata": {
        "id": "98SNZF0gtn1g"
      },
      "outputs": [],
      "source": [
        "# 6. Tokenizar textos\n",
        "def encode_texts(texts, tokenizer, max_len=MAX_LEN):\n",
        "    return tokenizer(\n",
        "        texts.tolist(),\n",
        "        max_length=max_len,\n",
        "        truncation=True,\n",
        "        padding=True,\n",
        "        return_tensors='tf'\n",
        "    )"
      ]
    },
    {
      "cell_type": "code",
      "execution_count": 11,
      "metadata": {
        "id": "1NRifEVytrhK"
      },
      "outputs": [],
      "source": [
        "X_train_enc = encode_texts(df_train['comentarios_limpios_spacy'], tokenizer)\n",
        "X_test_enc = encode_texts(df_test['comentarios_limpios_spacy'], tokenizer)\n",
        "y_train = tf.convert_to_tensor(df_train['sentimiento_id'].astype(\"int32\").values)\n",
        "y_test = tf.convert_to_tensor(df_test['sentimiento_id'].astype(\"int32\").values)"
      ]
    },
    {
      "cell_type": "code",
      "execution_count": 12,
      "metadata": {
        "id": "qanLQGF3tvM5"
      },
      "outputs": [],
      "source": [
        "# 7. Compilar modelo\n",
        "optimizer = tf.keras.optimizers.Adam(learning_rate=2e-5)\n",
        "loss = tf.keras.losses.SparseCategoricalCrossentropy(from_logits=True)\n",
        "metric = tf.keras.metrics.SparseCategoricalAccuracy('accuracy')\n",
        "\n",
        "model.compile(optimizer=optimizer, loss=loss, metrics=[metric])\n"
      ]
    },
    {
      "cell_type": "code",
      "execution_count": 13,
      "metadata": {
        "colab": {
          "base_uri": "https://localhost:8080/"
        },
        "id": "5e9HwkyBtyyS",
        "outputId": "bc4b2d6d-062f-4ca4-9e10-5890d936f8f6"
      },
      "outputs": [
        {
          "name": "stdout",
          "output_type": "stream",
          "text": [
            "Epoch 1/3\n",
            "224/224 [==============================] - 545s 2s/step - loss: 0.2634 - accuracy: 0.9094 - val_loss: 0.2307 - val_accuracy: 0.9106\n",
            "Epoch 2/3\n",
            "224/224 [==============================] - 536s 2s/step - loss: 0.1972 - accuracy: 0.9178 - val_loss: 0.2179 - val_accuracy: 0.9073\n",
            "Epoch 3/3\n",
            "224/224 [==============================] - 542s 2s/step - loss: 0.1419 - accuracy: 0.9452 - val_loss: 0.2288 - val_accuracy: 0.9028\n"
          ]
        }
      ],
      "source": [
        "# 8. Entrenamiento\n",
        "history = model.fit(\n",
        "    x={'input_ids': X_train_enc['input_ids'], 'attention_mask': X_train_enc['attention_mask']},\n",
        "    y=y_train,\n",
        "    validation_data=(\n",
        "        {'input_ids': X_test_enc['input_ids'], 'attention_mask': X_test_enc['attention_mask']},\n",
        "        y_test\n",
        "    ),\n",
        "    epochs=EPOCHS,\n",
        "    batch_size=BATCH_SIZE\n",
        ")"
      ]
    },
    {
      "cell_type": "code",
      "execution_count": 14,
      "metadata": {
        "colab": {
          "base_uri": "https://localhost:8080/"
        },
        "id": "-0b5ikS5tzgA",
        "outputId": "dc3c5bca-3f0e-4d78-fd70-1fafe4851392"
      },
      "outputs": [
        {
          "name": "stdout",
          "output_type": "stream",
          "text": [
            "28/28 [==============================] - 20s 703ms/step - loss: 0.2288 - accuracy: 0.9028\n",
            "Evaluación final ➤ Loss: 0.2288 - Accuracy: 0.9028\n"
          ]
        }
      ],
      "source": [
        "# 9. Evaluación\n",
        "loss, acc = model.evaluate(\n",
        "    {'input_ids': X_test_enc['input_ids'], 'attention_mask': X_test_enc['attention_mask']},\n",
        "    y_test\n",
        ")\n",
        "print(f\"Evaluación final ➤ Loss: {loss:.4f} - Accuracy: {acc:.4f}\")"
      ]
    },
    {
      "cell_type": "code",
      "execution_count": 15,
      "metadata": {
        "id": "EZeATPqHvS-r"
      },
      "outputs": [],
      "source": [
        "import matplotlib.pyplot as plt\n",
        "from sklearn.metrics import classification_report, confusion_matrix\n",
        "import seaborn as sns"
      ]
    },
    {
      "cell_type": "code",
      "execution_count": 16,
      "metadata": {
        "colab": {
          "base_uri": "https://localhost:8080/",
          "height": 1000
        },
        "id": "llaeefaSvQUq",
        "outputId": "b30c2fa3-d653-401e-c067-57b9b81532b6"
      },
      "outputs": [
        {
          "name": "stdout",
          "output_type": "stream",
          "text": [
            "28/28 [==============================] - 20s 662ms/step\n",
            "📋 Reporte de Clasificación:\n",
            "              precision    recall  f1-score   support\n",
            "\n",
            "    Negativo       0.45      0.36      0.40        80\n",
            "    Positivo       0.94      0.96      0.95       815\n",
            "\n",
            "    accuracy                           0.90       895\n",
            "   macro avg       0.69      0.66      0.67       895\n",
            "weighted avg       0.89      0.90      0.90       895\n",
            "\n"
          ]
        },
        {
          "name": "stderr",
          "output_type": "stream",
          "text": [
            "c:\\Users\\aluca\\miniconda3\\envs\\tf_im_test\\lib\\site-packages\\IPython\\core\\pylabtools.py:170: UserWarning: Glyph 128269 (\\N{LEFT-POINTING MAGNIFYING GLASS}) missing from current font.\n",
            "  fig.canvas.print_figure(bytes_io, **kw)\n"
          ]
        },
        {
          "data": {
            "image/png": "[encoded data removed]",
            "text/plain": [
              "<Figure size 600x500 with 2 Axes>"
            ]
          },
          "metadata": {},
          "output_type": "display_data"
        },
        {
          "data": {
            "image/png": "[encoded data removed]",
            "text/plain": [
              "<Figure size 1200x500 with 2 Axes>"
            ]
          },
          "metadata": {},
          "output_type": "display_data"
        }
      ],
      "source": [
        "# 1. Obtener predicciones\n",
        "y_pred_probs = model.predict({'input_ids': X_test_enc['input_ids'], 'attention_mask': X_test_enc['attention_mask']})\n",
        "y_pred = tf.argmax(y_pred_probs.logits, axis=1).numpy()\n",
        "\n",
        "# 2. Reporte de clasificación\n",
        "print(\"📋 Reporte de Clasificación:\")\n",
        "print(classification_report(y_test, y_pred, target_names=[\"Negativo\", \"Positivo\"]))\n",
        "\n",
        "# 3. Matriz de Confusión\n",
        "cm = confusion_matrix(y_test, y_pred)\n",
        "\n",
        "plt.figure(figsize=(6,5))\n",
        "sns.heatmap(cm, annot=True, fmt=\"d\", cmap=\"Blues\", xticklabels=[\"Negativo\", \"Positivo\"], yticklabels=[\"Negativo\", \"Positivo\"])\n",
        "plt.title(\"🔍 Matriz de Confusión (BERT)\")\n",
        "plt.xlabel(\"Predicción\")\n",
        "plt.ylabel(\"Real\")\n",
        "plt.show()\n",
        "\n",
        "# 4. Graficar precisión y pérdida del entrenamiento\n",
        "acc = history.history['accuracy']\n",
        "val_acc = history.history['val_accuracy']\n",
        "loss = history.history['loss']\n",
        "val_loss = history.history['val_loss']\n",
        "epochs_range = range(len(acc))\n",
        "\n",
        "plt.figure(figsize=(12,5))\n",
        "\n",
        "plt.subplot(1, 2, 1)\n",
        "plt.plot(epochs_range, acc, label='Entrenamiento')\n",
        "plt.plot(epochs_range, val_acc, label='Validación')\n",
        "plt.title('Precisión por Época')\n",
        "plt.xlabel(\"Épocas\")\n",
        "plt.ylabel(\"Precisión\")\n",
        "plt.legend()\n",
        "\n",
        "plt.subplot(1, 2, 2)\n",
        "plt.plot(epochs_range, loss, label='Entrenamiento')\n",
        "plt.plot(epochs_range, val_loss, label='Validación')\n",
        "plt.title('Pérdida (Loss) por Época')\n",
        "plt.xlabel(\"Épocas\")\n",
        "plt.ylabel(\"Loss\")\n",
        "plt.legend()\n",
        "\n",
        "plt.tight_layout()\n",
        "plt.show()\n"
      ]
    },
    {
      "cell_type": "markdown",
      "metadata": {
        "id": "FVNdzPqAnGIW"
      },
      "source": [
        "### Probar un modelo de clasificacion binaria"
      ]
    },
    {
      "cell_type": "code",
      "execution_count": 17,
      "metadata": {
        "id": "HpBQH8AzpbzE"
      },
      "outputs": [],
      "source": [
        "import pandas as pd\n",
        "import numpy as np\n",
        "import tensorflow as tf\n",
        "from sklearn.model_selection import train_test_split\n",
        "from transformers import BertTokenizer, TFBertForSequenceClassification"
      ]
    },
    {
      "cell_type": "code",
      "execution_count": 18,
      "metadata": {
        "id": "Dr9_ds2Jpgpi"
      },
      "outputs": [],
      "source": [
        "# -------------------------------\n",
        "# 1. Configuración\n",
        "# -------------------------------\n",
        "MAX_LEN = 128\n",
        "BATCH_SIZE = 16\n",
        "EPOCHS = 3\n",
        "MODEL_NAME = \"dccuchile/bert-base-spanish-wwm-cased\"\n",
        "NUM_CLASSES = 2  # Clasificación binaria: 0 = negativo, 1 = positivo"
      ]
    },
    {
      "cell_type": "code",
      "execution_count": 19,
      "metadata": {
        "colab": {
          "base_uri": "https://localhost:8080/"
        },
        "id": "4ZC7ZYEApid_",
        "outputId": "3b59a424-2359-4a35-b0a5-1873990b05b4"
      },
      "outputs": [
        {
          "name": "stderr",
          "output_type": "stream",
          "text": [
            "c:\\Users\\aluca\\miniconda3\\envs\\tf_im_test\\lib\\site-packages\\huggingface_hub\\file_download.py:943: FutureWarning: `resume_download` is deprecated and will be removed in version 1.0.0. Downloads always resume when possible. If you want to force a new download, use `force_download=True`.\n",
            "  warnings.warn(\n",
            "All model checkpoint layers were used when initializing TFBertForSequenceClassification.\n",
            "\n",
            "Some layers of TFBertForSequenceClassification were not initialized from the model checkpoint at dccuchile/bert-base-spanish-wwm-cased and are newly initialized: ['classifier', 'bert/pooler/dense/kernel:0', 'bert/pooler/dense/bias:0']\n",
            "You should probably TRAIN this model on a down-stream task to be able to use it for predictions and inference.\n"
          ]
        }
      ],
      "source": [
        "# -------------------------------\n",
        "# 2. Cargar tokenizer y modelo\n",
        "# -------------------------------\n",
        "tokenizer = BertTokenizer.from_pretrained(MODEL_NAME)\n",
        "model = TFBertForSequenceClassification.from_pretrained(MODEL_NAME, num_labels=NUM_CLASSES)"
      ]
    },
    {
      "cell_type": "code",
      "execution_count": 20,
      "metadata": {
        "id": "LwTdbecSpksf"
      },
      "outputs": [],
      "source": [
        "# -------------------------------\n",
        "# 3. Cargar y preparar los datos\n",
        "# -------------------------------\n",
        "df = pd.read_excel('../Datos/DB_Comentarios_Clean.xlsx')\n",
        "df = df.dropna()"
      ]
    },
    {
      "cell_type": "code",
      "execution_count": 21,
      "metadata": {
        "id": "yrE9gz7ppuV_"
      },
      "outputs": [],
      "source": [
        "# Mapear calificación a sentimiento binario\n",
        "rating_to_label = {\n",
        "    1: \"negativo\",\n",
        "    2: \"negativo\",\n",
        "    3: \"positivo\",\n",
        "    4: \"positivo\",\n",
        "    5: \"positivo\",\n",
        "}\n",
        "df[\"sentimiento\"] = df[\"calificacion\"].map(rating_to_label)\n",
        "label_to_int = {\"negativo\": 0, \"positivo\": 1}\n",
        "df[\"sentimiento_id\"] = df[\"sentimiento\"].map(label_to_int)"
      ]
    },
    {
      "cell_type": "code",
      "execution_count": 22,
      "metadata": {
        "colab": {
          "base_uri": "https://localhost:8080/",
          "height": 178
        },
        "id": "iZuqFYrtpwGo",
        "outputId": "a61d26eb-0f3a-48f8-fda0-4d8fab3c25ac"
      },
      "outputs": [
        {
          "data": {
            "text/plain": [
              "sentimiento_id\n",
              "1    4282\n",
              "0     191\n",
              "Name: count, dtype: int64"
            ]
          },
          "execution_count": 22,
          "metadata": {},
          "output_type": "execute_result"
        }
      ],
      "source": [
        "df['sentimiento_id'].value_counts()"
      ]
    },
    {
      "cell_type": "code",
      "execution_count": 23,
      "metadata": {
        "id": "DTD2ygMvp7ub"
      },
      "outputs": [],
      "source": [
        "# -------------------------------\n",
        "# 4. Tokenización\n",
        "# -------------------------------\n",
        "def encode_texts(texts, tokenizer, max_len=MAX_LEN):\n",
        "    return tokenizer(\n",
        "        texts.tolist(),\n",
        "        max_length=max_len,\n",
        "        truncation=True,\n",
        "        padding='max_length',\n",
        "        return_tensors='tf'\n",
        "    )\n",
        "\n",
        "encodings = encode_texts(df[\"comentarios_limpios_spacy\"], tokenizer)\n",
        "X_input_ids = encodings[\"input_ids\"]\n",
        "X_attention_mask = encodings[\"attention_mask\"]\n",
        "y = tf.convert_to_tensor(df[\"sentimiento_id\"].astype(\"int32\").values)\n",
        "\n",
        "# Convertir a NumPy para hacer split\n",
        "X_input_ids_np = X_input_ids.numpy()\n",
        "X_attention_mask_np = X_attention_mask.numpy()\n",
        "y_np = y.numpy()"
      ]
    },
    {
      "cell_type": "code",
      "execution_count": 24,
      "metadata": {
        "id": "IuxXNGSEqCYz"
      },
      "outputs": [],
      "source": [
        "# -------------------------------\n",
        "# 5. División train/test\n",
        "# -------------------------------\n",
        "X_train_ids, X_test_ids, X_train_mask, X_test_mask, y_train, y_test = train_test_split(\n",
        "    X_input_ids_np, X_attention_mask_np, y_np, test_size=0.2, stratify=y_np, random_state=42\n",
        ")\n",
        "\n",
        "# Convertir de nuevo a tensores\n",
        "X_train_ids = tf.convert_to_tensor(X_train_ids)\n",
        "X_test_ids = tf.convert_to_tensor(X_test_ids)\n",
        "X_train_mask = tf.convert_to_tensor(X_train_mask)\n",
        "X_test_mask = tf.convert_to_tensor(X_test_mask)\n",
        "y_train = tf.convert_to_tensor(y_train)\n",
        "y_test = tf.convert_to_tensor(y_test)\n"
      ]
    },
    {
      "cell_type": "code",
      "execution_count": 25,
      "metadata": {
        "colab": {
          "base_uri": "https://localhost:8080/"
        },
        "id": "dBgW5IZqrwHS",
        "outputId": "b16603ce-5bbb-4a2f-eb93-e3d409e59b49"
      },
      "outputs": [
        {
          "name": "stdout",
          "output_type": "stream",
          "text": [
            "(3578,)\n",
            "(895,)\n"
          ]
        }
      ],
      "source": [
        "print(y_train.shape)\n",
        "print(y_test.shape)"
      ]
    },
    {
      "cell_type": "code",
      "execution_count": 26,
      "metadata": {
        "id": "_syMdvFVqEz9"
      },
      "outputs": [],
      "source": [
        "# -------------------------------\n",
        "# 6. Compilar el modelo\n",
        "# -------------------------------\n",
        "optimizer = tf.keras.optimizers.Adam(learning_rate=2e-5)\n",
        "loss = tf.keras.losses.SparseCategoricalCrossentropy(from_logits=True)\n",
        "metric = tf.keras.metrics.SparseCategoricalAccuracy('accuracy')\n",
        "model.compile(optimizer=optimizer, loss=loss, metrics=[metric])"
      ]
    },
    {
      "cell_type": "code",
      "execution_count": 27,
      "metadata": {
        "colab": {
          "base_uri": "https://localhost:8080/"
        },
        "id": "nIbLlvhUqHvz",
        "outputId": "da886d0a-e4f1-48b3-88f7-c6dbcf325628"
      },
      "outputs": [
        {
          "name": "stdout",
          "output_type": "stream",
          "text": [
            "Epoch 1/3\n",
            "224/224 [==============================] - 806s 4s/step - loss: 0.1623 - accuracy: 0.9530 - val_loss: 0.1210 - val_accuracy: 0.9575\n",
            "Epoch 2/3\n",
            "224/224 [==============================] - 807s 4s/step - loss: 0.1171 - accuracy: 0.9564 - val_loss: 0.1370 - val_accuracy: 0.9575\n",
            "Epoch 3/3\n",
            "224/224 [==============================] - 820s 4s/step - loss: 0.0799 - accuracy: 0.9740 - val_loss: 0.1621 - val_accuracy: 0.9430\n"
          ]
        }
      ],
      "source": [
        "# -------------------------------\n",
        "# 7. Entrenamiento\n",
        "# -------------------------------\n",
        "history = model.fit(\n",
        "    x={'input_ids': X_train_ids, 'attention_mask': X_train_mask},\n",
        "    y=y_train,\n",
        "    validation_data=({'input_ids': X_test_ids, 'attention_mask': X_test_mask}, y_test),\n",
        "    epochs=EPOCHS,\n",
        "    batch_size=BATCH_SIZE\n",
        ")\n"
      ]
    },
    {
      "cell_type": "code",
      "execution_count": 28,
      "metadata": {
        "colab": {
          "base_uri": "https://localhost:8080/"
        },
        "id": "tUtB7BcLqIrs",
        "outputId": "bcf2f864-4fdc-4efa-a308-74988ccff179"
      },
      "outputs": [
        {
          "name": "stdout",
          "output_type": "stream",
          "text": [
            "28/28 [==============================] - 58s 2s/step - loss: 0.1621 - accuracy: 0.9430\n",
            "Evaluación final ➤ Loss: 0.1621 - Accuracy: 0.9430\n"
          ]
        }
      ],
      "source": [
        "# -------------------------------\n",
        "# 8. Evaluación\n",
        "# -------------------------------\n",
        "loss, acc = model.evaluate(\n",
        "    {'input_ids': X_test_ids, 'attention_mask': X_test_mask},\n",
        "    y_test\n",
        ")\n",
        "print(f\"Evaluación final ➤ Loss: {loss:.4f} - Accuracy: {acc:.4f}\")"
      ]
    },
    {
      "cell_type": "code",
      "execution_count": 29,
      "metadata": {
        "colab": {
          "base_uri": "https://localhost:8080/",
          "height": 1000
        },
        "id": "QkW1fp06qXJG",
        "outputId": "e3ba38c7-f0cb-46f9-87ec-86c756b9d386"
      },
      "outputs": [
        {
          "name": "stdout",
          "output_type": "stream",
          "text": [
            "28/28 [==============================] - 59s 2s/step\n",
            "📋 Reporte de Clasificación:\n",
            "              precision    recall  f1-score   support\n",
            "\n",
            "    Negativo       0.35      0.39      0.37        38\n",
            "    Positivo       0.97      0.97      0.97       857\n",
            "\n",
            "    accuracy                           0.94       895\n",
            "   macro avg       0.66      0.68      0.67       895\n",
            "weighted avg       0.95      0.94      0.94       895\n",
            "\n"
          ]
        },
        {
          "name": "stderr",
          "output_type": "stream",
          "text": [
            "c:\\Users\\aluca\\miniconda3\\envs\\tf_im_test\\lib\\site-packages\\IPython\\core\\pylabtools.py:170: UserWarning: Glyph 128269 (\\N{LEFT-POINTING MAGNIFYING GLASS}) missing from current font.\n",
            "  fig.canvas.print_figure(bytes_io, **kw)\n"
          ]
        },
        {
          "data": {
            "image/png": "[encoded data removed]",
            "text/plain": [
              "<Figure size 600x500 with 2 Axes>"
            ]
          },
          "metadata": {},
          "output_type": "display_data"
        },
        {
          "data": {
            "image/png": "[encoded data removed]",
            "text/plain": [
              "<Figure size 1200x500 with 2 Axes>"
            ]
          },
          "metadata": {},
          "output_type": "display_data"
        }
      ],
      "source": [
        "# 1. Obtener predicciones\n",
        "y_pred_probs = model.predict({'input_ids': X_test_ids, 'attention_mask': X_test_mask})\n",
        "y_pred = tf.argmax(y_pred_probs.logits, axis=1).numpy()\n",
        "\n",
        "# 2. Reporte de clasificación\n",
        "print(\"📋 Reporte de Clasificación:\")\n",
        "print(classification_report(y_test.numpy(), y_pred, target_names=[\"Negativo\", \"Positivo\"]))\n",
        "\n",
        "# 3. Matriz de Confusión\n",
        "cm = confusion_matrix(y_test.numpy(), y_pred)\n",
        "\n",
        "plt.figure(figsize=(6,5))\n",
        "sns.heatmap(cm, annot=True, fmt=\"d\", cmap=\"Blues\", xticklabels=[\"Negativo\", \"Positivo\"], yticklabels=[\"Negativo\", \"Positivo\"])\n",
        "plt.title(\"🔍 Matriz de Confusión (BERT Binario)\")\n",
        "plt.xlabel(\"Predicción\")\n",
        "plt.ylabel(\"Real\")\n",
        "plt.show()\n",
        "\n",
        "# 4. Graficar precisión y pérdida del entrenamiento\n",
        "acc = history.history['accuracy']\n",
        "val_acc = history.history['val_accuracy']\n",
        "loss = history.history['loss']\n",
        "val_loss = history.history['val_loss']\n",
        "epochs_range = range(len(acc))\n",
        "\n",
        "plt.figure(figsize=(12,5))\n",
        "\n",
        "plt.subplot(1, 2, 1)\n",
        "plt.plot(epochs_range, acc, label='Entrenamiento')\n",
        "plt.plot(epochs_range, val_acc, label='Validación')\n",
        "plt.title('Precisión por Época')\n",
        "plt.xlabel(\"Épocas\")\n",
        "plt.ylabel(\"Precisión\")\n",
        "plt.legend()\n",
        "\n",
        "plt.subplot(1, 2, 2)\n",
        "plt.plot(epochs_range, loss, label='Entrenamiento')\n",
        "plt.plot(epochs_range, val_loss, label='Validación')\n",
        "plt.title('Pérdida (Loss) por Época')\n",
        "plt.xlabel(\"Épocas\")\n",
        "plt.ylabel(\"Loss\")\n",
        "plt.legend()\n",
        "\n",
        "plt.tight_layout()\n",
        "plt.show()"
      ]
    },
    {
      "cell_type": "markdown",
      "metadata": {
        "id": "ccxN9PLFsmFP"
      },
      "source": [
        "### Variacion con class_weight"
      ]
    },
    {
      "cell_type": "code",
      "execution_count": 30,
      "metadata": {
        "colab": {
          "base_uri": "https://localhost:8080/",
          "height": 1000
        },
        "id": "F-jGqA_Psqyr",
        "outputId": "fe3c57da-ad13-4c99-eeae-ae004c87eb27"
      },
      "outputs": [
        {
          "name": "stderr",
          "output_type": "stream",
          "text": [
            "c:\\Users\\aluca\\miniconda3\\envs\\tf_im_test\\lib\\site-packages\\huggingface_hub\\file_download.py:943: FutureWarning: `resume_download` is deprecated and will be removed in version 1.0.0. Downloads always resume when possible. If you want to force a new download, use `force_download=True`.\n",
            "  warnings.warn(\n",
            "All model checkpoint layers were used when initializing TFBertForSequenceClassification.\n",
            "\n",
            "Some layers of TFBertForSequenceClassification were not initialized from the model checkpoint at dccuchile/bert-base-spanish-wwm-cased and are newly initialized: ['classifier', 'bert/pooler/dense/kernel:0', 'bert/pooler/dense/bias:0']\n",
            "You should probably TRAIN this model on a down-stream task to be able to use it for predictions and inference.\n"
          ]
        },
        {
          "name": "stdout",
          "output_type": "stream",
          "text": [
            "Pesos de clase: {0: 5.590625, 1: 0.549109883364027}\n",
            "Epoch 1/3\n",
            "224/224 [==============================] - 1147s 5s/step - loss: 0.3456 - accuracy: 0.8527 - val_loss: 0.3206 - val_accuracy: 0.9006\n",
            "Epoch 2/3\n",
            "224/224 [==============================] - 1103s 5s/step - loss: 0.2274 - accuracy: 0.9162 - val_loss: 0.3759 - val_accuracy: 0.8637\n",
            "Epoch 3/3\n",
            "224/224 [==============================] - 1025s 5s/step - loss: 0.1549 - accuracy: 0.9533 - val_loss: 0.3105 - val_accuracy: 0.9140\n",
            "28/28 [==============================] - 67s 2s/step - loss: 0.3105 - accuracy: 0.9140\n",
            "\n",
            "Evaluación final ➤ Loss: 0.3105 - Accuracy: 0.9140\n",
            "28/28 [==============================] - 69s 2s/step\n",
            "\n",
            "📋 Reporte de Clasificación:\n",
            "              precision    recall  f1-score   support\n",
            "\n",
            "    Negativo       0.51      0.88      0.65        80\n",
            "    Positivo       0.99      0.92      0.95       815\n",
            "\n",
            "    accuracy                           0.91       895\n",
            "   macro avg       0.75      0.90      0.80       895\n",
            "weighted avg       0.94      0.91      0.92       895\n",
            "\n"
          ]
        },
        {
          "name": "stderr",
          "output_type": "stream",
          "text": [
            "c:\\Users\\aluca\\miniconda3\\envs\\tf_im_test\\lib\\site-packages\\IPython\\core\\pylabtools.py:170: UserWarning: Glyph 128269 (\\N{LEFT-POINTING MAGNIFYING GLASS}) missing from current font.\n",
            "  fig.canvas.print_figure(bytes_io, **kw)\n"
          ]
        },
        {
          "data": {
            "image/png": "[encoded data removed]",
            "text/plain": [
              "<Figure size 600x500 with 2 Axes>"
            ]
          },
          "metadata": {},
          "output_type": "display_data"
        },
        {
          "data": {
            "image/png": "[encoded data removed]",
            "text/plain": [
              "<Figure size 1200x500 with 2 Axes>"
            ]
          },
          "metadata": {},
          "output_type": "display_data"
        }
      ],
      "source": [
        "# 1. Instalación de librerías necesarias\n",
        "#!pip install transformers datasets tensorflow -q\n",
        "\n",
        "# 2. Imports\n",
        "import pandas as pd\n",
        "import numpy as np\n",
        "import tensorflow as tf\n",
        "from sklearn.utils.class_weight import compute_class_weight\n",
        "from sklearn.model_selection import train_test_split\n",
        "from transformers import BertTokenizer, TFBertForSequenceClassification\n",
        "import matplotlib.pyplot as plt\n",
        "import seaborn as sns\n",
        "from sklearn.metrics import classification_report, confusion_matrix\n",
        "\n",
        "# 3. Configuración\n",
        "MODEL_NAME = \"dccuchile/bert-base-spanish-wwm-cased\"\n",
        "MAX_LEN = 128\n",
        "BATCH_SIZE = 16\n",
        "EPOCHS = 3\n",
        "NUM_CLASSES = 2  # Binario: 0 = negativo, 1 = positivo\n",
        "\n",
        "# 4. Cargar tokenizer y modelo\n",
        "tokenizer = BertTokenizer.from_pretrained(MODEL_NAME)\n",
        "model = TFBertForSequenceClassification.from_pretrained(MODEL_NAME, num_labels=NUM_CLASSES)\n",
        "\n",
        "# 5. Cargar y preparar los datos\n",
        "df = pd.read_excel('../Datos/DB_Comentarios_Clean.xlsx')\n",
        "df = df.dropna()\n",
        "\n",
        "# Mapeo binario de sentimiento\n",
        "rating_to_label = {1: \"negativo\", 2: \"negativo\", 3: \"negativo\", 4: \"positivo\", 5: \"positivo\"}\n",
        "df[\"sentimiento\"] = df[\"calificacion\"].map(rating_to_label)\n",
        "label_to_int = {\"negativo\": 0, \"positivo\": 1}\n",
        "df[\"sentimiento_id\"] = df[\"sentimiento\"].map(label_to_int)\n",
        "\n",
        "# 6. Tokenización\n",
        "def encode_texts(texts, tokenizer, max_len=MAX_LEN):\n",
        "    return tokenizer(\n",
        "        texts.tolist(),\n",
        "        max_length=max_len,\n",
        "        truncation=True,\n",
        "        padding='max_length',\n",
        "        return_tensors='tf'\n",
        "    )\n",
        "\n",
        "# 7. División train/test\n",
        "X_train, X_test, y_train, y_test = train_test_split(\n",
        "    df[\"comentario\"],\n",
        "    df[\"sentimiento_id\"],\n",
        "    test_size=0.2,\n",
        "    stratify=df[\"sentimiento_id\"],\n",
        "    random_state=42\n",
        ")\n",
        "\n",
        "X_train_enc = encode_texts(X_train, tokenizer)\n",
        "X_test_enc = encode_texts(X_test, tokenizer)\n",
        "y_train = tf.convert_to_tensor(y_train.astype(\"int32\").values)\n",
        "y_test = tf.convert_to_tensor(y_test.astype(\"int32\").values)\n",
        "\n",
        "# 8. Calcular pesos de clase\n",
        "y_train_np = y_train.numpy()\n",
        "class_weights = compute_class_weight(\n",
        "    class_weight='balanced',\n",
        "    classes=np.unique(y_train_np),\n",
        "    y=y_train_np\n",
        ")\n",
        "class_weights = dict(enumerate(class_weights))\n",
        "print(\"Pesos de clase:\", class_weights)\n",
        "\n",
        "# 9. Compilar el modelo\n",
        "optimizer = tf.keras.optimizers.Adam(learning_rate=2e-5)\n",
        "loss = tf.keras.losses.SparseCategoricalCrossentropy(from_logits=True)\n",
        "metric = tf.keras.metrics.SparseCategoricalAccuracy('accuracy')\n",
        "\n",
        "model.compile(optimizer=optimizer, loss=loss, metrics=[metric])\n",
        "\n",
        "# 10. Entrenamiento\n",
        "history = model.fit(\n",
        "    x={'input_ids': X_train_enc['input_ids'], 'attention_mask': X_train_enc['attention_mask']},\n",
        "    y=y_train,\n",
        "    validation_data=(\n",
        "        {'input_ids': X_test_enc['input_ids'], 'attention_mask': X_test_enc['attention_mask']},\n",
        "        y_test\n",
        "    ),\n",
        "    epochs=EPOCHS,\n",
        "    batch_size=BATCH_SIZE,\n",
        "    class_weight=class_weights\n",
        ")\n",
        "\n",
        "# 11. Evaluación final\n",
        "loss, acc = model.evaluate(\n",
        "    {'input_ids': X_test_enc['input_ids'], 'attention_mask': X_test_enc['attention_mask']},\n",
        "    y_test\n",
        ")\n",
        "print(f\"\\nEvaluación final ➤ Loss: {loss:.4f} - Accuracy: {acc:.4f}\")\n",
        "\n",
        "# 12. Reporte de Clasificación y Matriz de Confusión\n",
        "y_pred_probs = model.predict({'input_ids': X_test_enc['input_ids'], 'attention_mask': X_test_enc['attention_mask']})\n",
        "y_pred = tf.argmax(y_pred_probs.logits, axis=1).numpy()\n",
        "\n",
        "print(\"\\n📋 Reporte de Clasificación:\")\n",
        "print(classification_report(y_test, y_pred, target_names=[\"Negativo\", \"Positivo\"]))\n",
        "\n",
        "cm = confusion_matrix(y_test, y_pred)\n",
        "plt.figure(figsize=(6,5))\n",
        "sns.heatmap(cm, annot=True, fmt=\"d\", cmap=\"Blues\", xticklabels=[\"Negativo\", \"Positivo\"], yticklabels=[\"Negativo\", \"Positivo\"])\n",
        "plt.title(\"🔍 Matriz de Confusión (BERT Binario)\")\n",
        "plt.xlabel(\"Predicción\")\n",
        "plt.ylabel(\"Real\")\n",
        "plt.show()\n",
        "\n",
        "# 13. Gráficas de precisión y pérdida\n",
        "acc = history.history['accuracy']\n",
        "val_acc = history.history['val_accuracy']\n",
        "loss = history.history['loss']\n",
        "val_loss = history.history['val_loss']\n",
        "epochs_range = range(len(acc))\n",
        "\n",
        "plt.figure(figsize=(12,5))\n",
        "\n",
        "plt.subplot(1, 2, 1)\n",
        "plt.plot(epochs_range, acc, label='Entrenamiento')\n",
        "plt.plot(epochs_range, val_acc, label='Validación')\n",
        "plt.title('Precisión por Época')\n",
        "plt.xlabel(\"Épocas\")\n",
        "plt.ylabel(\"Precisión\")\n",
        "plt.legend()\n",
        "\n",
        "plt.subplot(1, 2, 2)\n",
        "plt.plot(epochs_range, loss, label='Entrenamiento')\n",
        "plt.plot(epochs_range, val_loss, label='Validación')\n",
        "plt.title('Pérdida (Loss) por Época')\n",
        "plt.xlabel(\"Épocas\")\n",
        "plt.ylabel(\"Loss\")\n",
        "plt.legend()\n",
        "\n",
        "plt.tight_layout()\n",
        "plt.show()\n"
      ]
    }
  ],
  "metadata": {
    "colab": {
      "provenance": []
    },
    "kernelspec": {
      "display_name": "tf_im_test",
      "language": "python",
      "name": "python3"
    },
    "language_info": {
      "codemirror_mode": {
        "name": "ipython",
        "version": 3
      },
      "file_extension": ".py",
      "mimetype": "text/x-python",
      "name": "python",
      "nbconvert_exporter": "python",
      "pygments_lexer": "ipython3",
      "version": "3.10.17"
    },
    "widgets": {
      "application/vnd.jupyter.widget-state+json": {
        "05bd3ee002f14111a4b8e590d4bcd0a3": {
          "model_module": "@jupyter-widgets/base",
          "model_module_version": "1.2.0",
          "model_name": "LayoutModel",
          "state": {
            "_model_module": "@jupyter-widgets/base",
            "_model_module_version": "1.2.0",
            "_model_name": "LayoutModel",
            "_view_count": null,
            "_view_module": "@jupyter-widgets/base",
            "_view_module_version": "1.2.0",
            "_view_name": "LayoutView",
            "align_content": null,
            "align_items": null,
            "align_self": null,
            "border": null,
            "bottom": null,
            "display": null,
            "flex": null,
            "flex_flow": null,
            "grid_area": null,
            "grid_auto_columns": null,
            "grid_auto_flow": null,
            "grid_auto_rows": null,
            "grid_column": null,
            "grid_gap": null,
            "grid_row": null,
            "grid_template_areas": null,
            "grid_template_columns": null,
            "grid_template_rows": null,
            "height": null,
            "justify_content": null,
            "justify_items": null,
            "left": null,
            "margin": null,
            "max_height": null,
            "max_width": null,
            "min_height": null,
            "min_width": null,
            "object_fit": null,
            "object_position": null,
            "order": null,
            "overflow": null,
            "overflow_x": null,
            "overflow_y": null,
            "padding": null,
            "right": null,
            "top": null,
            "visibility": null,
            "width": null
          }
        },
        "0688a8082d14433db64ccccb2e4fbd41": {
          "model_module": "@jupyter-widgets/controls",
          "model_module_version": "1.5.0",
          "model_name": "FloatProgressModel",
          "state": {
            "_dom_classes": [],
            "_model_module": "@jupyter-widgets/controls",
            "_model_module_version": "1.5.0",
            "_model_name": "FloatProgressModel",
            "_view_count": null,
            "_view_module": "@jupyter-widgets/controls",
            "_view_module_version": "1.5.0",
            "_view_name": "ProgressView",
            "bar_style": "success",
            "description": "",
            "description_tooltip": null,
            "layout": "IPY_MODEL_a6e66cebc45142ed9e56a54875b8d562",
            "max": 364,
            "min": 0,
            "orientation": "horizontal",
            "style": "IPY_MODEL_0ae59c90337d49718c69c8747a82fecf",
            "value": 364
          }
        },
        "079137cdc8d14816b4e994dde5e35116": {
          "model_module": "@jupyter-widgets/base",
          "model_module_version": "1.2.0",
          "model_name": "LayoutModel",
          "state": {
            "_model_module": "@jupyter-widgets/base",
            "_model_module_version": "1.2.0",
            "_model_name": "LayoutModel",
            "_view_count": null,
            "_view_module": "@jupyter-widgets/base",
            "_view_module_version": "1.2.0",
            "_view_name": "LayoutView",
            "align_content": null,
            "align_items": null,
            "align_self": null,
            "border": null,
            "bottom": null,
            "display": null,
            "flex": null,
            "flex_flow": null,
            "grid_area": null,
            "grid_auto_columns": null,
            "grid_auto_flow": null,
            "grid_auto_rows": null,
            "grid_column": null,
            "grid_gap": null,
            "grid_row": null,
            "grid_template_areas": null,
            "grid_template_columns": null,
            "grid_template_rows": null,
            "height": null,
            "justify_content": null,
            "justify_items": null,
            "left": null,
            "margin": null,
            "max_height": null,
            "max_width": null,
            "min_height": null,
            "min_width": null,
            "object_fit": null,
            "object_position": null,
            "order": null,
            "overflow": null,
            "overflow_x": null,
            "overflow_y": null,
            "padding": null,
            "right": null,
            "top": null,
            "visibility": null,
            "width": null
          }
        },
        "096f6924bb994ed9b257e7367afa2d23": {
          "model_module": "@jupyter-widgets/controls",
          "model_module_version": "1.5.0",
          "model_name": "HTMLModel",
          "state": {
            "_dom_classes": [],
            "_model_module": "@jupyter-widgets/controls",
            "_model_module_version": "1.5.0",
            "_model_name": "HTMLModel",
            "_view_count": null,
            "_view_module": "@jupyter-widgets/controls",
            "_view_module_version": "1.5.0",
            "_view_name": "HTMLView",
            "description": "",
            "description_tooltip": null,
            "layout": "IPY_MODEL_ce7f50e48f0542998892bfd55fd96f64",
            "placeholder": "​",
            "style": "IPY_MODEL_c82a1a9c4be34e51b6244feebd65604d",
            "value": "tokenizer.json: 100%"
          }
        },
        "0ae59c90337d49718c69c8747a82fecf": {
          "model_module": "@jupyter-widgets/controls",
          "model_module_version": "1.5.0",
          "model_name": "ProgressStyleModel",
          "state": {
            "_model_module": "@jupyter-widgets/controls",
            "_model_module_version": "1.5.0",
            "_model_name": "ProgressStyleModel",
            "_view_count": null,
            "_view_module": "@jupyter-widgets/base",
            "_view_module_version": "1.2.0",
            "_view_name": "StyleView",
            "bar_color": null,
            "description_width": ""
          }
        },
        "0f555dc0816d435a9d8b4de23e3b93d1": {
          "model_module": "@jupyter-widgets/controls",
          "model_module_version": "1.5.0",
          "model_name": "HBoxModel",
          "state": {
            "_dom_classes": [],
            "_model_module": "@jupyter-widgets/controls",
            "_model_module_version": "1.5.0",
            "_model_name": "HBoxModel",
            "_view_count": null,
            "_view_module": "@jupyter-widgets/controls",
            "_view_module_version": "1.5.0",
            "_view_name": "HBoxView",
            "box_style": "",
            "children": [
              "IPY_MODEL_601d2e88ba9a4422b5c96bbf244bdeaa",
              "IPY_MODEL_b794e304cf2b4f4a913f740d0723db94",
              "IPY_MODEL_d62c7cb0c89e4be8bd2f0c6c79db4b00"
            ],
            "layout": "IPY_MODEL_6bb7afcf5ab04505b545992d23359a26"
          }
        },
        "0f6427b62f5c42cbbd4a2c2639d8ef0e": {
          "model_module": "@jupyter-widgets/base",
          "model_module_version": "1.2.0",
          "model_name": "LayoutModel",
          "state": {
            "_model_module": "@jupyter-widgets/base",
            "_model_module_version": "1.2.0",
            "_model_name": "LayoutModel",
            "_view_count": null,
            "_view_module": "@jupyter-widgets/base",
            "_view_module_version": "1.2.0",
            "_view_name": "LayoutView",
            "align_content": null,
            "align_items": null,
            "align_self": null,
            "border": null,
            "bottom": null,
            "display": null,
            "flex": null,
            "flex_flow": null,
            "grid_area": null,
            "grid_auto_columns": null,
            "grid_auto_flow": null,
            "grid_auto_rows": null,
            "grid_column": null,
            "grid_gap": null,
            "grid_row": null,
            "grid_template_areas": null,
            "grid_template_columns": null,
            "grid_template_rows": null,
            "height": null,
            "justify_content": null,
            "justify_items": null,
            "left": null,
            "margin": null,
            "max_height": null,
            "max_width": null,
            "min_height": null,
            "min_width": null,
            "object_fit": null,
            "object_position": null,
            "order": null,
            "overflow": null,
            "overflow_x": null,
            "overflow_y": null,
            "padding": null,
            "right": null,
            "top": null,
            "visibility": null,
            "width": null
          }
        },
        "19ca5a6ea480486ba1550a0ea64b3b02": {
          "model_module": "@jupyter-widgets/controls",
          "model_module_version": "1.5.0",
          "model_name": "DescriptionStyleModel",
          "state": {
            "_model_module": "@jupyter-widgets/controls",
            "_model_module_version": "1.5.0",
            "_model_name": "DescriptionStyleModel",
            "_view_count": null,
            "_view_module": "@jupyter-widgets/base",
            "_view_module_version": "1.2.0",
            "_view_name": "StyleView",
            "description_width": ""
          }
        },
        "1a1f133f8e884751953b87dc034cfe26": {
          "model_module": "@jupyter-widgets/controls",
          "model_module_version": "1.5.0",
          "model_name": "HTMLModel",
          "state": {
            "_dom_classes": [],
            "_model_module": "@jupyter-widgets/controls",
            "_model_module_version": "1.5.0",
            "_model_name": "HTMLModel",
            "_view_count": null,
            "_view_module": "@jupyter-widgets/controls",
            "_view_module_version": "1.5.0",
            "_view_name": "HTMLView",
            "description": "",
            "description_tooltip": null,
            "layout": "IPY_MODEL_57f7563b65b746918d12cc1c3b951081",
            "placeholder": "​",
            "style": "IPY_MODEL_dac1235f8e35400c852075e435e831e5",
            "value": " 242k/242k [00:00&lt;00:00, 12.2MB/s]"
          }
        },
        "1eeb5ea4477b4dafacbad537db85fcd9": {
          "model_module": "@jupyter-widgets/base",
          "model_module_version": "1.2.0",
          "model_name": "LayoutModel",
          "state": {
            "_model_module": "@jupyter-widgets/base",
            "_model_module_version": "1.2.0",
            "_model_name": "LayoutModel",
            "_view_count": null,
            "_view_module": "@jupyter-widgets/base",
            "_view_module_version": "1.2.0",
            "_view_name": "LayoutView",
            "align_content": null,
            "align_items": null,
            "align_self": null,
            "border": null,
            "bottom": null,
            "display": null,
            "flex": null,
            "flex_flow": null,
            "grid_area": null,
            "grid_auto_columns": null,
            "grid_auto_flow": null,
            "grid_auto_rows": null,
            "grid_column": null,
            "grid_gap": null,
            "grid_row": null,
            "grid_template_areas": null,
            "grid_template_columns": null,
            "grid_template_rows": null,
            "height": null,
            "justify_content": null,
            "justify_items": null,
            "left": null,
            "margin": null,
            "max_height": null,
            "max_width": null,
            "min_height": null,
            "min_width": null,
            "object_fit": null,
            "object_position": null,
            "order": null,
            "overflow": null,
            "overflow_x": null,
            "overflow_y": null,
            "padding": null,
            "right": null,
            "top": null,
            "visibility": null,
            "width": null
          }
        },
        "1f4828089d3848ce8c1878c1b401930a": {
          "model_module": "@jupyter-widgets/controls",
          "model_module_version": "1.5.0",
          "model_name": "DescriptionStyleModel",
          "state": {
            "_model_module": "@jupyter-widgets/controls",
            "_model_module_version": "1.5.0",
            "_model_name": "DescriptionStyleModel",
            "_view_count": null,
            "_view_module": "@jupyter-widgets/base",
            "_view_module_version": "1.2.0",
            "_view_name": "StyleView",
            "description_width": ""
          }
        },
        "22fbd387dbcf44e096318f78edb82222": {
          "model_module": "@jupyter-widgets/controls",
          "model_module_version": "1.5.0",
          "model_name": "HTMLModel",
          "state": {
            "_dom_classes": [],
            "_model_module": "@jupyter-widgets/controls",
            "_model_module_version": "1.5.0",
            "_model_name": "HTMLModel",
            "_view_count": null,
            "_view_module": "@jupyter-widgets/controls",
            "_view_module_version": "1.5.0",
            "_view_name": "HTMLView",
            "description": "",
            "description_tooltip": null,
            "layout": "IPY_MODEL_b81dd09ec3dc4fe7b8a427e3d5908ecd",
            "placeholder": "​",
            "style": "IPY_MODEL_19ca5a6ea480486ba1550a0ea64b3b02",
            "value": " 480k/480k [00:00&lt;00:00, 1.04MB/s]"
          }
        },
        "23ac61e75db74da8b95cf41eb56a1df1": {
          "model_module": "@jupyter-widgets/controls",
          "model_module_version": "1.5.0",
          "model_name": "DescriptionStyleModel",
          "state": {
            "_model_module": "@jupyter-widgets/controls",
            "_model_module_version": "1.5.0",
            "_model_name": "DescriptionStyleModel",
            "_view_count": null,
            "_view_module": "@jupyter-widgets/base",
            "_view_module_version": "1.2.0",
            "_view_name": "StyleView",
            "description_width": ""
          }
        },
        "297c4c8d5ef74f9d941a97afc59254b4": {
          "model_module": "@jupyter-widgets/base",
          "model_module_version": "1.2.0",
          "model_name": "LayoutModel",
          "state": {
            "_model_module": "@jupyter-widgets/base",
            "_model_module_version": "1.2.0",
            "_model_name": "LayoutModel",
            "_view_count": null,
            "_view_module": "@jupyter-widgets/base",
            "_view_module_version": "1.2.0",
            "_view_name": "LayoutView",
            "align_content": null,
            "align_items": null,
            "align_self": null,
            "border": null,
            "bottom": null,
            "display": null,
            "flex": null,
            "flex_flow": null,
            "grid_area": null,
            "grid_auto_columns": null,
            "grid_auto_flow": null,
            "grid_auto_rows": null,
            "grid_column": null,
            "grid_gap": null,
            "grid_row": null,
            "grid_template_areas": null,
            "grid_template_columns": null,
            "grid_template_rows": null,
            "height": null,
            "justify_content": null,
            "justify_items": null,
            "left": null,
            "margin": null,
            "max_height": null,
            "max_width": null,
            "min_height": null,
            "min_width": null,
            "object_fit": null,
            "object_position": null,
            "order": null,
            "overflow": null,
            "overflow_x": null,
            "overflow_y": null,
            "padding": null,
            "right": null,
            "top": null,
            "visibility": null,
            "width": null
          }
        },
        "2dbad4bea87a49308e001d90fa3e75ec": {
          "model_module": "@jupyter-widgets/base",
          "model_module_version": "1.2.0",
          "model_name": "LayoutModel",
          "state": {
            "_model_module": "@jupyter-widgets/base",
            "_model_module_version": "1.2.0",
            "_model_name": "LayoutModel",
            "_view_count": null,
            "_view_module": "@jupyter-widgets/base",
            "_view_module_version": "1.2.0",
            "_view_name": "LayoutView",
            "align_content": null,
            "align_items": null,
            "align_self": null,
            "border": null,
            "bottom": null,
            "display": null,
            "flex": null,
            "flex_flow": null,
            "grid_area": null,
            "grid_auto_columns": null,
            "grid_auto_flow": null,
            "grid_auto_rows": null,
            "grid_column": null,
            "grid_gap": null,
            "grid_row": null,
            "grid_template_areas": null,
            "grid_template_columns": null,
            "grid_template_rows": null,
            "height": null,
            "justify_content": null,
            "justify_items": null,
            "left": null,
            "margin": null,
            "max_height": null,
            "max_width": null,
            "min_height": null,
            "min_width": null,
            "object_fit": null,
            "object_position": null,
            "order": null,
            "overflow": null,
            "overflow_x": null,
            "overflow_y": null,
            "padding": null,
            "right": null,
            "top": null,
            "visibility": null,
            "width": null
          }
        },
        "350cc823755c4b81a624d70b77167e8b": {
          "model_module": "@jupyter-widgets/controls",
          "model_module_version": "1.5.0",
          "model_name": "ProgressStyleModel",
          "state": {
            "_model_module": "@jupyter-widgets/controls",
            "_model_module_version": "1.5.0",
            "_model_name": "ProgressStyleModel",
            "_view_count": null,
            "_view_module": "@jupyter-widgets/base",
            "_view_module_version": "1.2.0",
            "_view_name": "StyleView",
            "bar_color": null,
            "description_width": ""
          }
        },
        "39cac10bcbb343a38b18e25be6768bf8": {
          "model_module": "@jupyter-widgets/controls",
          "model_module_version": "1.5.0",
          "model_name": "ProgressStyleModel",
          "state": {
            "_model_module": "@jupyter-widgets/controls",
            "_model_module_version": "1.5.0",
            "_model_name": "ProgressStyleModel",
            "_view_count": null,
            "_view_module": "@jupyter-widgets/base",
            "_view_module_version": "1.2.0",
            "_view_name": "StyleView",
            "bar_color": null,
            "description_width": ""
          }
        },
        "3ad57f9a261041d5bcadcf39ae8fe448": {
          "model_module": "@jupyter-widgets/base",
          "model_module_version": "1.2.0",
          "model_name": "LayoutModel",
          "state": {
            "_model_module": "@jupyter-widgets/base",
            "_model_module_version": "1.2.0",
            "_model_name": "LayoutModel",
            "_view_count": null,
            "_view_module": "@jupyter-widgets/base",
            "_view_module_version": "1.2.0",
            "_view_name": "LayoutView",
            "align_content": null,
            "align_items": null,
            "align_self": null,
            "border": null,
            "bottom": null,
            "display": null,
            "flex": null,
            "flex_flow": null,
            "grid_area": null,
            "grid_auto_columns": null,
            "grid_auto_flow": null,
            "grid_auto_rows": null,
            "grid_column": null,
            "grid_gap": null,
            "grid_row": null,
            "grid_template_areas": null,
            "grid_template_columns": null,
            "grid_template_rows": null,
            "height": null,
            "justify_content": null,
            "justify_items": null,
            "left": null,
            "margin": null,
            "max_height": null,
            "max_width": null,
            "min_height": null,
            "min_width": null,
            "object_fit": null,
            "object_position": null,
            "order": null,
            "overflow": null,
            "overflow_x": null,
            "overflow_y": null,
            "padding": null,
            "right": null,
            "top": null,
            "visibility": null,
            "width": null
          }
        },
        "3c7b3661089c41e89e9d66de53c3607c": {
          "model_module": "@jupyter-widgets/base",
          "model_module_version": "1.2.0",
          "model_name": "LayoutModel",
          "state": {
            "_model_module": "@jupyter-widgets/base",
            "_model_module_version": "1.2.0",
            "_model_name": "LayoutModel",
            "_view_count": null,
            "_view_module": "@jupyter-widgets/base",
            "_view_module_version": "1.2.0",
            "_view_name": "LayoutView",
            "align_content": null,
            "align_items": null,
            "align_self": null,
            "border": null,
            "bottom": null,
            "display": null,
            "flex": null,
            "flex_flow": null,
            "grid_area": null,
            "grid_auto_columns": null,
            "grid_auto_flow": null,
            "grid_auto_rows": null,
            "grid_column": null,
            "grid_gap": null,
            "grid_row": null,
            "grid_template_areas": null,
            "grid_template_columns": null,
            "grid_template_rows": null,
            "height": null,
            "justify_content": null,
            "justify_items": null,
            "left": null,
            "margin": null,
            "max_height": null,
            "max_width": null,
            "min_height": null,
            "min_width": null,
            "object_fit": null,
            "object_position": null,
            "order": null,
            "overflow": null,
            "overflow_x": null,
            "overflow_y": null,
            "padding": null,
            "right": null,
            "top": null,
            "visibility": null,
            "width": null
          }
        },
        "3e22476aa7024e20acffc96a8bb89cff": {
          "model_module": "@jupyter-widgets/base",
          "model_module_version": "1.2.0",
          "model_name": "LayoutModel",
          "state": {
            "_model_module": "@jupyter-widgets/base",
            "_model_module_version": "1.2.0",
            "_model_name": "LayoutModel",
            "_view_count": null,
            "_view_module": "@jupyter-widgets/base",
            "_view_module_version": "1.2.0",
            "_view_name": "LayoutView",
            "align_content": null,
            "align_items": null,
            "align_self": null,
            "border": null,
            "bottom": null,
            "display": null,
            "flex": null,
            "flex_flow": null,
            "grid_area": null,
            "grid_auto_columns": null,
            "grid_auto_flow": null,
            "grid_auto_rows": null,
            "grid_column": null,
            "grid_gap": null,
            "grid_row": null,
            "grid_template_areas": null,
            "grid_template_columns": null,
            "grid_template_rows": null,
            "height": null,
            "justify_content": null,
            "justify_items": null,
            "left": null,
            "margin": null,
            "max_height": null,
            "max_width": null,
            "min_height": null,
            "min_width": null,
            "object_fit": null,
            "object_position": null,
            "order": null,
            "overflow": null,
            "overflow_x": null,
            "overflow_y": null,
            "padding": null,
            "right": null,
            "top": null,
            "visibility": null,
            "width": null
          }
        },
        "43f0d277550f456988a7ae11bcf83621": {
          "model_module": "@jupyter-widgets/controls",
          "model_module_version": "1.5.0",
          "model_name": "DescriptionStyleModel",
          "state": {
            "_model_module": "@jupyter-widgets/controls",
            "_model_module_version": "1.5.0",
            "_model_name": "DescriptionStyleModel",
            "_view_count": null,
            "_view_module": "@jupyter-widgets/base",
            "_view_module_version": "1.2.0",
            "_view_name": "StyleView",
            "description_width": ""
          }
        },
        "4e91af90a18b4ecbbe0481bfdf9eaf45": {
          "model_module": "@jupyter-widgets/controls",
          "model_module_version": "1.5.0",
          "model_name": "HBoxModel",
          "state": {
            "_dom_classes": [],
            "_model_module": "@jupyter-widgets/controls",
            "_model_module_version": "1.5.0",
            "_model_name": "HBoxModel",
            "_view_count": null,
            "_view_module": "@jupyter-widgets/controls",
            "_view_module_version": "1.5.0",
            "_view_name": "HBoxView",
            "box_style": "",
            "children": [
              "IPY_MODEL_61f18f6ad21c4d7eac676b87bc1d9b54",
              "IPY_MODEL_fb09a7be261947cb8366262f613f7c3b",
              "IPY_MODEL_5f8c1ee6ce5842818f44778f284f8c43"
            ],
            "layout": "IPY_MODEL_3c7b3661089c41e89e9d66de53c3607c"
          }
        },
        "50e9c0878004427ea517281bd74b4f9f": {
          "model_module": "@jupyter-widgets/controls",
          "model_module_version": "1.5.0",
          "model_name": "HTMLModel",
          "state": {
            "_dom_classes": [],
            "_model_module": "@jupyter-widgets/controls",
            "_model_module_version": "1.5.0",
            "_model_name": "HTMLModel",
            "_view_count": null,
            "_view_module": "@jupyter-widgets/controls",
            "_view_module_version": "1.5.0",
            "_view_name": "HTMLView",
            "description": "",
            "description_tooltip": null,
            "layout": "IPY_MODEL_1eeb5ea4477b4dafacbad537db85fcd9",
            "placeholder": "​",
            "style": "IPY_MODEL_f76293bc5a3042c89a3c8de2536a7187",
            "value": "vocab.txt: 100%"
          }
        },
        "5171125680824453b3759ffc2ef06d13": {
          "model_module": "@jupyter-widgets/base",
          "model_module_version": "1.2.0",
          "model_name": "LayoutModel",
          "state": {
            "_model_module": "@jupyter-widgets/base",
            "_model_module_version": "1.2.0",
            "_model_name": "LayoutModel",
            "_view_count": null,
            "_view_module": "@jupyter-widgets/base",
            "_view_module_version": "1.2.0",
            "_view_name": "LayoutView",
            "align_content": null,
            "align_items": null,
            "align_self": null,
            "border": null,
            "bottom": null,
            "display": null,
            "flex": null,
            "flex_flow": null,
            "grid_area": null,
            "grid_auto_columns": null,
            "grid_auto_flow": null,
            "grid_auto_rows": null,
            "grid_column": null,
            "grid_gap": null,
            "grid_row": null,
            "grid_template_areas": null,
            "grid_template_columns": null,
            "grid_template_rows": null,
            "height": null,
            "justify_content": null,
            "justify_items": null,
            "left": null,
            "margin": null,
            "max_height": null,
            "max_width": null,
            "min_height": null,
            "min_width": null,
            "object_fit": null,
            "object_position": null,
            "order": null,
            "overflow": null,
            "overflow_x": null,
            "overflow_y": null,
            "padding": null,
            "right": null,
            "top": null,
            "visibility": null,
            "width": null
          }
        },
        "51f4ec4b6aa745c0b9caff1653354f7b": {
          "model_module": "@jupyter-widgets/controls",
          "model_module_version": "1.5.0",
          "model_name": "DescriptionStyleModel",
          "state": {
            "_model_module": "@jupyter-widgets/controls",
            "_model_module_version": "1.5.0",
            "_model_name": "DescriptionStyleModel",
            "_view_count": null,
            "_view_module": "@jupyter-widgets/base",
            "_view_module_version": "1.2.0",
            "_view_name": "StyleView",
            "description_width": ""
          }
        },
        "57f7563b65b746918d12cc1c3b951081": {
          "model_module": "@jupyter-widgets/base",
          "model_module_version": "1.2.0",
          "model_name": "LayoutModel",
          "state": {
            "_model_module": "@jupyter-widgets/base",
            "_model_module_version": "1.2.0",
            "_model_name": "LayoutModel",
            "_view_count": null,
            "_view_module": "@jupyter-widgets/base",
            "_view_module_version": "1.2.0",
            "_view_name": "LayoutView",
            "align_content": null,
            "align_items": null,
            "align_self": null,
            "border": null,
            "bottom": null,
            "display": null,
            "flex": null,
            "flex_flow": null,
            "grid_area": null,
            "grid_auto_columns": null,
            "grid_auto_flow": null,
            "grid_auto_rows": null,
            "grid_column": null,
            "grid_gap": null,
            "grid_row": null,
            "grid_template_areas": null,
            "grid_template_columns": null,
            "grid_template_rows": null,
            "height": null,
            "justify_content": null,
            "justify_items": null,
            "left": null,
            "margin": null,
            "max_height": null,
            "max_width": null,
            "min_height": null,
            "min_width": null,
            "object_fit": null,
            "object_position": null,
            "order": null,
            "overflow": null,
            "overflow_x": null,
            "overflow_y": null,
            "padding": null,
            "right": null,
            "top": null,
            "visibility": null,
            "width": null
          }
        },
        "58402aeceb054969aa940f7564331488": {
          "model_module": "@jupyter-widgets/base",
          "model_module_version": "1.2.0",
          "model_name": "LayoutModel",
          "state": {
            "_model_module": "@jupyter-widgets/base",
            "_model_module_version": "1.2.0",
            "_model_name": "LayoutModel",
            "_view_count": null,
            "_view_module": "@jupyter-widgets/base",
            "_view_module_version": "1.2.0",
            "_view_name": "LayoutView",
            "align_content": null,
            "align_items": null,
            "align_self": null,
            "border": null,
            "bottom": null,
            "display": null,
            "flex": null,
            "flex_flow": null,
            "grid_area": null,
            "grid_auto_columns": null,
            "grid_auto_flow": null,
            "grid_auto_rows": null,
            "grid_column": null,
            "grid_gap": null,
            "grid_row": null,
            "grid_template_areas": null,
            "grid_template_columns": null,
            "grid_template_rows": null,
            "height": null,
            "justify_content": null,
            "justify_items": null,
            "left": null,
            "margin": null,
            "max_height": null,
            "max_width": null,
            "min_height": null,
            "min_width": null,
            "object_fit": null,
            "object_position": null,
            "order": null,
            "overflow": null,
            "overflow_x": null,
            "overflow_y": null,
            "padding": null,
            "right": null,
            "top": null,
            "visibility": null,
            "width": null
          }
        },
        "5c8b3a9540aa4f2ca20961b2ba840ce6": {
          "model_module": "@jupyter-widgets/controls",
          "model_module_version": "1.5.0",
          "model_name": "DescriptionStyleModel",
          "state": {
            "_model_module": "@jupyter-widgets/controls",
            "_model_module_version": "1.5.0",
            "_model_name": "DescriptionStyleModel",
            "_view_count": null,
            "_view_module": "@jupyter-widgets/base",
            "_view_module_version": "1.2.0",
            "_view_name": "StyleView",
            "description_width": ""
          }
        },
        "5f8c1ee6ce5842818f44778f284f8c43": {
          "model_module": "@jupyter-widgets/controls",
          "model_module_version": "1.5.0",
          "model_name": "HTMLModel",
          "state": {
            "_dom_classes": [],
            "_model_module": "@jupyter-widgets/controls",
            "_model_module_version": "1.5.0",
            "_model_name": "HTMLModel",
            "_view_count": null,
            "_view_module": "@jupyter-widgets/controls",
            "_view_module_version": "1.5.0",
            "_view_name": "HTMLView",
            "description": "",
            "description_tooltip": null,
            "layout": "IPY_MODEL_3e22476aa7024e20acffc96a8bb89cff",
            "placeholder": "​",
            "style": "IPY_MODEL_a3545659d9d94389aeefa5ace6ddb865",
            "value": " 134/134 [00:00&lt;00:00, 4.24kB/s]"
          }
        },
        "601d2e88ba9a4422b5c96bbf244bdeaa": {
          "model_module": "@jupyter-widgets/controls",
          "model_module_version": "1.5.0",
          "model_name": "HTMLModel",
          "state": {
            "_dom_classes": [],
            "_model_module": "@jupyter-widgets/controls",
            "_model_module_version": "1.5.0",
            "_model_name": "HTMLModel",
            "_view_count": null,
            "_view_module": "@jupyter-widgets/controls",
            "_view_module_version": "1.5.0",
            "_view_name": "HTMLView",
            "description": "",
            "description_tooltip": null,
            "layout": "IPY_MODEL_bd3ea585d3744cd6bf16b831fbc636e0",
            "placeholder": "​",
            "style": "IPY_MODEL_43f0d277550f456988a7ae11bcf83621",
            "value": "config.json: 100%"
          }
        },
        "61f18f6ad21c4d7eac676b87bc1d9b54": {
          "model_module": "@jupyter-widgets/controls",
          "model_module_version": "1.5.0",
          "model_name": "HTMLModel",
          "state": {
            "_dom_classes": [],
            "_model_module": "@jupyter-widgets/controls",
            "_model_module_version": "1.5.0",
            "_model_name": "HTMLModel",
            "_view_count": null,
            "_view_module": "@jupyter-widgets/controls",
            "_view_module_version": "1.5.0",
            "_view_name": "HTMLView",
            "description": "",
            "description_tooltip": null,
            "layout": "IPY_MODEL_6df3678aa66143cc99cef8fdc243a421",
            "placeholder": "​",
            "style": "IPY_MODEL_a796c434763549de821ef591ad941d18",
            "value": "special_tokens_map.json: 100%"
          }
        },
        "64d2dc39ee824a0eba84414b269df72f": {
          "model_module": "@jupyter-widgets/base",
          "model_module_version": "1.2.0",
          "model_name": "LayoutModel",
          "state": {
            "_model_module": "@jupyter-widgets/base",
            "_model_module_version": "1.2.0",
            "_model_name": "LayoutModel",
            "_view_count": null,
            "_view_module": "@jupyter-widgets/base",
            "_view_module_version": "1.2.0",
            "_view_name": "LayoutView",
            "align_content": null,
            "align_items": null,
            "align_self": null,
            "border": null,
            "bottom": null,
            "display": null,
            "flex": null,
            "flex_flow": null,
            "grid_area": null,
            "grid_auto_columns": null,
            "grid_auto_flow": null,
            "grid_auto_rows": null,
            "grid_column": null,
            "grid_gap": null,
            "grid_row": null,
            "grid_template_areas": null,
            "grid_template_columns": null,
            "grid_template_rows": null,
            "height": null,
            "justify_content": null,
            "justify_items": null,
            "left": null,
            "margin": null,
            "max_height": null,
            "max_width": null,
            "min_height": null,
            "min_width": null,
            "object_fit": null,
            "object_position": null,
            "order": null,
            "overflow": null,
            "overflow_x": null,
            "overflow_y": null,
            "padding": null,
            "right": null,
            "top": null,
            "visibility": null,
            "width": null
          }
        },
        "68101cd2bac84b6d82d5807d8e764cd4": {
          "model_module": "@jupyter-widgets/controls",
          "model_module_version": "1.5.0",
          "model_name": "HBoxModel",
          "state": {
            "_dom_classes": [],
            "_model_module": "@jupyter-widgets/controls",
            "_model_module_version": "1.5.0",
            "_model_name": "HBoxModel",
            "_view_count": null,
            "_view_module": "@jupyter-widgets/controls",
            "_view_module_version": "1.5.0",
            "_view_name": "HBoxView",
            "box_style": "",
            "children": [
              "IPY_MODEL_6ecb472ce8244a7c86e4c4465f41b0a7",
              "IPY_MODEL_7f47730d35a84867b60fce6301041f8a",
              "IPY_MODEL_a3bc7b8646144d2abb210dd77039beda"
            ],
            "layout": "IPY_MODEL_83aa9329a1ab40708579a72ec0477e31"
          }
        },
        "698d89b8c369477cba482bb8b7d6ccd0": {
          "model_module": "@jupyter-widgets/controls",
          "model_module_version": "1.5.0",
          "model_name": "HTMLModel",
          "state": {
            "_dom_classes": [],
            "_model_module": "@jupyter-widgets/controls",
            "_model_module_version": "1.5.0",
            "_model_name": "HTMLModel",
            "_view_count": null,
            "_view_module": "@jupyter-widgets/controls",
            "_view_module_version": "1.5.0",
            "_view_name": "HTMLView",
            "description": "",
            "description_tooltip": null,
            "layout": "IPY_MODEL_079137cdc8d14816b4e994dde5e35116",
            "placeholder": "​",
            "style": "IPY_MODEL_1f4828089d3848ce8c1878c1b401930a",
            "value": "tokenizer_config.json: 100%"
          }
        },
        "6bb7afcf5ab04505b545992d23359a26": {
          "model_module": "@jupyter-widgets/base",
          "model_module_version": "1.2.0",
          "model_name": "LayoutModel",
          "state": {
            "_model_module": "@jupyter-widgets/base",
            "_model_module_version": "1.2.0",
            "_model_name": "LayoutModel",
            "_view_count": null,
            "_view_module": "@jupyter-widgets/base",
            "_view_module_version": "1.2.0",
            "_view_name": "LayoutView",
            "align_content": null,
            "align_items": null,
            "align_self": null,
            "border": null,
            "bottom": null,
            "display": null,
            "flex": null,
            "flex_flow": null,
            "grid_area": null,
            "grid_auto_columns": null,
            "grid_auto_flow": null,
            "grid_auto_rows": null,
            "grid_column": null,
            "grid_gap": null,
            "grid_row": null,
            "grid_template_areas": null,
            "grid_template_columns": null,
            "grid_template_rows": null,
            "height": null,
            "justify_content": null,
            "justify_items": null,
            "left": null,
            "margin": null,
            "max_height": null,
            "max_width": null,
            "min_height": null,
            "min_width": null,
            "object_fit": null,
            "object_position": null,
            "order": null,
            "overflow": null,
            "overflow_x": null,
            "overflow_y": null,
            "padding": null,
            "right": null,
            "top": null,
            "visibility": null,
            "width": null
          }
        },
        "6df3678aa66143cc99cef8fdc243a421": {
          "model_module": "@jupyter-widgets/base",
          "model_module_version": "1.2.0",
          "model_name": "LayoutModel",
          "state": {
            "_model_module": "@jupyter-widgets/base",
            "_model_module_version": "1.2.0",
            "_model_name": "LayoutModel",
            "_view_count": null,
            "_view_module": "@jupyter-widgets/base",
            "_view_module_version": "1.2.0",
            "_view_name": "LayoutView",
            "align_content": null,
            "align_items": null,
            "align_self": null,
            "border": null,
            "bottom": null,
            "display": null,
            "flex": null,
            "flex_flow": null,
            "grid_area": null,
            "grid_auto_columns": null,
            "grid_auto_flow": null,
            "grid_auto_rows": null,
            "grid_column": null,
            "grid_gap": null,
            "grid_row": null,
            "grid_template_areas": null,
            "grid_template_columns": null,
            "grid_template_rows": null,
            "height": null,
            "justify_content": null,
            "justify_items": null,
            "left": null,
            "margin": null,
            "max_height": null,
            "max_width": null,
            "min_height": null,
            "min_width": null,
            "object_fit": null,
            "object_position": null,
            "order": null,
            "overflow": null,
            "overflow_x": null,
            "overflow_y": null,
            "padding": null,
            "right": null,
            "top": null,
            "visibility": null,
            "width": null
          }
        },
        "6ecb472ce8244a7c86e4c4465f41b0a7": {
          "model_module": "@jupyter-widgets/controls",
          "model_module_version": "1.5.0",
          "model_name": "HTMLModel",
          "state": {
            "_dom_classes": [],
            "_model_module": "@jupyter-widgets/controls",
            "_model_module_version": "1.5.0",
            "_model_name": "HTMLModel",
            "_view_count": null,
            "_view_module": "@jupyter-widgets/controls",
            "_view_module_version": "1.5.0",
            "_view_name": "HTMLView",
            "description": "",
            "description_tooltip": null,
            "layout": "IPY_MODEL_3ad57f9a261041d5bcadcf39ae8fe448",
            "placeholder": "​",
            "style": "IPY_MODEL_a2371c541e8d4415bba564c1f8b0e9d2",
            "value": "tf_model.h5: 100%"
          }
        },
        "6f71ce90d0b849d28c7743fb30fece33": {
          "model_module": "@jupyter-widgets/controls",
          "model_module_version": "1.5.0",
          "model_name": "ProgressStyleModel",
          "state": {
            "_model_module": "@jupyter-widgets/controls",
            "_model_module_version": "1.5.0",
            "_model_name": "ProgressStyleModel",
            "_view_count": null,
            "_view_module": "@jupyter-widgets/base",
            "_view_module_version": "1.2.0",
            "_view_name": "StyleView",
            "bar_color": null,
            "description_width": ""
          }
        },
        "70151ce8365e4bb3ba716b56bd03ec3f": {
          "model_module": "@jupyter-widgets/controls",
          "model_module_version": "1.5.0",
          "model_name": "HBoxModel",
          "state": {
            "_dom_classes": [],
            "_model_module": "@jupyter-widgets/controls",
            "_model_module_version": "1.5.0",
            "_model_name": "HBoxModel",
            "_view_count": null,
            "_view_module": "@jupyter-widgets/controls",
            "_view_module_version": "1.5.0",
            "_view_name": "HBoxView",
            "box_style": "",
            "children": [
              "IPY_MODEL_096f6924bb994ed9b257e7367afa2d23",
              "IPY_MODEL_d41110c12e7f42ca9116457b16a2ac6e",
              "IPY_MODEL_22fbd387dbcf44e096318f78edb82222"
            ],
            "layout": "IPY_MODEL_8fbda968f1e54d02b1b3efed5fe5e1d8"
          }
        },
        "7f47730d35a84867b60fce6301041f8a": {
          "model_module": "@jupyter-widgets/controls",
          "model_module_version": "1.5.0",
          "model_name": "FloatProgressModel",
          "state": {
            "_dom_classes": [],
            "_model_module": "@jupyter-widgets/controls",
            "_model_module_version": "1.5.0",
            "_model_name": "FloatProgressModel",
            "_view_count": null,
            "_view_module": "@jupyter-widgets/controls",
            "_view_module_version": "1.5.0",
            "_view_name": "ProgressView",
            "bar_style": "success",
            "description": "",
            "description_tooltip": null,
            "layout": "IPY_MODEL_64d2dc39ee824a0eba84414b269df72f",
            "max": 536635336,
            "min": 0,
            "orientation": "horizontal",
            "style": "IPY_MODEL_8fa605f405464776b9866db4b31b2667",
            "value": 536635336
          }
        },
        "83aa9329a1ab40708579a72ec0477e31": {
          "model_module": "@jupyter-widgets/base",
          "model_module_version": "1.2.0",
          "model_name": "LayoutModel",
          "state": {
            "_model_module": "@jupyter-widgets/base",
            "_model_module_version": "1.2.0",
            "_model_name": "LayoutModel",
            "_view_count": null,
            "_view_module": "@jupyter-widgets/base",
            "_view_module_version": "1.2.0",
            "_view_name": "LayoutView",
            "align_content": null,
            "align_items": null,
            "align_self": null,
            "border": null,
            "bottom": null,
            "display": null,
            "flex": null,
            "flex_flow": null,
            "grid_area": null,
            "grid_auto_columns": null,
            "grid_auto_flow": null,
            "grid_auto_rows": null,
            "grid_column": null,
            "grid_gap": null,
            "grid_row": null,
            "grid_template_areas": null,
            "grid_template_columns": null,
            "grid_template_rows": null,
            "height": null,
            "justify_content": null,
            "justify_items": null,
            "left": null,
            "margin": null,
            "max_height": null,
            "max_width": null,
            "min_height": null,
            "min_width": null,
            "object_fit": null,
            "object_position": null,
            "order": null,
            "overflow": null,
            "overflow_x": null,
            "overflow_y": null,
            "padding": null,
            "right": null,
            "top": null,
            "visibility": null,
            "width": null
          }
        },
        "8fa605f405464776b9866db4b31b2667": {
          "model_module": "@jupyter-widgets/controls",
          "model_module_version": "1.5.0",
          "model_name": "ProgressStyleModel",
          "state": {
            "_model_module": "@jupyter-widgets/controls",
            "_model_module_version": "1.5.0",
            "_model_name": "ProgressStyleModel",
            "_view_count": null,
            "_view_module": "@jupyter-widgets/base",
            "_view_module_version": "1.2.0",
            "_view_name": "StyleView",
            "bar_color": null,
            "description_width": ""
          }
        },
        "8fbda968f1e54d02b1b3efed5fe5e1d8": {
          "model_module": "@jupyter-widgets/base",
          "model_module_version": "1.2.0",
          "model_name": "LayoutModel",
          "state": {
            "_model_module": "@jupyter-widgets/base",
            "_model_module_version": "1.2.0",
            "_model_name": "LayoutModel",
            "_view_count": null,
            "_view_module": "@jupyter-widgets/base",
            "_view_module_version": "1.2.0",
            "_view_name": "LayoutView",
            "align_content": null,
            "align_items": null,
            "align_self": null,
            "border": null,
            "bottom": null,
            "display": null,
            "flex": null,
            "flex_flow": null,
            "grid_area": null,
            "grid_auto_columns": null,
            "grid_auto_flow": null,
            "grid_auto_rows": null,
            "grid_column": null,
            "grid_gap": null,
            "grid_row": null,
            "grid_template_areas": null,
            "grid_template_columns": null,
            "grid_template_rows": null,
            "height": null,
            "justify_content": null,
            "justify_items": null,
            "left": null,
            "margin": null,
            "max_height": null,
            "max_width": null,
            "min_height": null,
            "min_width": null,
            "object_fit": null,
            "object_position": null,
            "order": null,
            "overflow": null,
            "overflow_x": null,
            "overflow_y": null,
            "padding": null,
            "right": null,
            "top": null,
            "visibility": null,
            "width": null
          }
        },
        "a2371c541e8d4415bba564c1f8b0e9d2": {
          "model_module": "@jupyter-widgets/controls",
          "model_module_version": "1.5.0",
          "model_name": "DescriptionStyleModel",
          "state": {
            "_model_module": "@jupyter-widgets/controls",
            "_model_module_version": "1.5.0",
            "_model_name": "DescriptionStyleModel",
            "_view_count": null,
            "_view_module": "@jupyter-widgets/base",
            "_view_module_version": "1.2.0",
            "_view_name": "StyleView",
            "description_width": ""
          }
        },
        "a3545659d9d94389aeefa5ace6ddb865": {
          "model_module": "@jupyter-widgets/controls",
          "model_module_version": "1.5.0",
          "model_name": "DescriptionStyleModel",
          "state": {
            "_model_module": "@jupyter-widgets/controls",
            "_model_module_version": "1.5.0",
            "_model_name": "DescriptionStyleModel",
            "_view_count": null,
            "_view_module": "@jupyter-widgets/base",
            "_view_module_version": "1.2.0",
            "_view_name": "StyleView",
            "description_width": ""
          }
        },
        "a3bc7b8646144d2abb210dd77039beda": {
          "model_module": "@jupyter-widgets/controls",
          "model_module_version": "1.5.0",
          "model_name": "HTMLModel",
          "state": {
            "_dom_classes": [],
            "_model_module": "@jupyter-widgets/controls",
            "_model_module_version": "1.5.0",
            "_model_name": "HTMLModel",
            "_view_count": null,
            "_view_module": "@jupyter-widgets/controls",
            "_view_module_version": "1.5.0",
            "_view_name": "HTMLView",
            "description": "",
            "description_tooltip": null,
            "layout": "IPY_MODEL_58402aeceb054969aa940f7564331488",
            "placeholder": "​",
            "style": "IPY_MODEL_51f4ec4b6aa745c0b9caff1653354f7b",
            "value": " 537M/537M [00:23&lt;00:00, 23.1MB/s]"
          }
        },
        "a434feacfa904edf81be186d81b1daeb": {
          "model_module": "@jupyter-widgets/base",
          "model_module_version": "1.2.0",
          "model_name": "LayoutModel",
          "state": {
            "_model_module": "@jupyter-widgets/base",
            "_model_module_version": "1.2.0",
            "_model_name": "LayoutModel",
            "_view_count": null,
            "_view_module": "@jupyter-widgets/base",
            "_view_module_version": "1.2.0",
            "_view_name": "LayoutView",
            "align_content": null,
            "align_items": null,
            "align_self": null,
            "border": null,
            "bottom": null,
            "display": null,
            "flex": null,
            "flex_flow": null,
            "grid_area": null,
            "grid_auto_columns": null,
            "grid_auto_flow": null,
            "grid_auto_rows": null,
            "grid_column": null,
            "grid_gap": null,
            "grid_row": null,
            "grid_template_areas": null,
            "grid_template_columns": null,
            "grid_template_rows": null,
            "height": null,
            "justify_content": null,
            "justify_items": null,
            "left": null,
            "margin": null,
            "max_height": null,
            "max_width": null,
            "min_height": null,
            "min_width": null,
            "object_fit": null,
            "object_position": null,
            "order": null,
            "overflow": null,
            "overflow_x": null,
            "overflow_y": null,
            "padding": null,
            "right": null,
            "top": null,
            "visibility": null,
            "width": null
          }
        },
        "a59261c96fc244048055751ce95dfa57": {
          "model_module": "@jupyter-widgets/controls",
          "model_module_version": "1.5.0",
          "model_name": "ProgressStyleModel",
          "state": {
            "_model_module": "@jupyter-widgets/controls",
            "_model_module_version": "1.5.0",
            "_model_name": "ProgressStyleModel",
            "_view_count": null,
            "_view_module": "@jupyter-widgets/base",
            "_view_module_version": "1.2.0",
            "_view_name": "StyleView",
            "bar_color": null,
            "description_width": ""
          }
        },
        "a6e66cebc45142ed9e56a54875b8d562": {
          "model_module": "@jupyter-widgets/base",
          "model_module_version": "1.2.0",
          "model_name": "LayoutModel",
          "state": {
            "_model_module": "@jupyter-widgets/base",
            "_model_module_version": "1.2.0",
            "_model_name": "LayoutModel",
            "_view_count": null,
            "_view_module": "@jupyter-widgets/base",
            "_view_module_version": "1.2.0",
            "_view_name": "LayoutView",
            "align_content": null,
            "align_items": null,
            "align_self": null,
            "border": null,
            "bottom": null,
            "display": null,
            "flex": null,
            "flex_flow": null,
            "grid_area": null,
            "grid_auto_columns": null,
            "grid_auto_flow": null,
            "grid_auto_rows": null,
            "grid_column": null,
            "grid_gap": null,
            "grid_row": null,
            "grid_template_areas": null,
            "grid_template_columns": null,
            "grid_template_rows": null,
            "height": null,
            "justify_content": null,
            "justify_items": null,
            "left": null,
            "margin": null,
            "max_height": null,
            "max_width": null,
            "min_height": null,
            "min_width": null,
            "object_fit": null,
            "object_position": null,
            "order": null,
            "overflow": null,
            "overflow_x": null,
            "overflow_y": null,
            "padding": null,
            "right": null,
            "top": null,
            "visibility": null,
            "width": null
          }
        },
        "a796c434763549de821ef591ad941d18": {
          "model_module": "@jupyter-widgets/controls",
          "model_module_version": "1.5.0",
          "model_name": "DescriptionStyleModel",
          "state": {
            "_model_module": "@jupyter-widgets/controls",
            "_model_module_version": "1.5.0",
            "_model_name": "DescriptionStyleModel",
            "_view_count": null,
            "_view_module": "@jupyter-widgets/base",
            "_view_module_version": "1.2.0",
            "_view_name": "StyleView",
            "description_width": ""
          }
        },
        "b212052219864d6687474133c3bedb7c": {
          "model_module": "@jupyter-widgets/base",
          "model_module_version": "1.2.0",
          "model_name": "LayoutModel",
          "state": {
            "_model_module": "@jupyter-widgets/base",
            "_model_module_version": "1.2.0",
            "_model_name": "LayoutModel",
            "_view_count": null,
            "_view_module": "@jupyter-widgets/base",
            "_view_module_version": "1.2.0",
            "_view_name": "LayoutView",
            "align_content": null,
            "align_items": null,
            "align_self": null,
            "border": null,
            "bottom": null,
            "display": null,
            "flex": null,
            "flex_flow": null,
            "grid_area": null,
            "grid_auto_columns": null,
            "grid_auto_flow": null,
            "grid_auto_rows": null,
            "grid_column": null,
            "grid_gap": null,
            "grid_row": null,
            "grid_template_areas": null,
            "grid_template_columns": null,
            "grid_template_rows": null,
            "height": null,
            "justify_content": null,
            "justify_items": null,
            "left": null,
            "margin": null,
            "max_height": null,
            "max_width": null,
            "min_height": null,
            "min_width": null,
            "object_fit": null,
            "object_position": null,
            "order": null,
            "overflow": null,
            "overflow_x": null,
            "overflow_y": null,
            "padding": null,
            "right": null,
            "top": null,
            "visibility": null,
            "width": null
          }
        },
        "b794e304cf2b4f4a913f740d0723db94": {
          "model_module": "@jupyter-widgets/controls",
          "model_module_version": "1.5.0",
          "model_name": "FloatProgressModel",
          "state": {
            "_dom_classes": [],
            "_model_module": "@jupyter-widgets/controls",
            "_model_module_version": "1.5.0",
            "_model_name": "FloatProgressModel",
            "_view_count": null,
            "_view_module": "@jupyter-widgets/controls",
            "_view_module_version": "1.5.0",
            "_view_name": "ProgressView",
            "bar_style": "success",
            "description": "",
            "description_tooltip": null,
            "layout": "IPY_MODEL_0f6427b62f5c42cbbd4a2c2639d8ef0e",
            "max": 648,
            "min": 0,
            "orientation": "horizontal",
            "style": "IPY_MODEL_39cac10bcbb343a38b18e25be6768bf8",
            "value": 648
          }
        },
        "b81dd09ec3dc4fe7b8a427e3d5908ecd": {
          "model_module": "@jupyter-widgets/base",
          "model_module_version": "1.2.0",
          "model_name": "LayoutModel",
          "state": {
            "_model_module": "@jupyter-widgets/base",
            "_model_module_version": "1.2.0",
            "_model_name": "LayoutModel",
            "_view_count": null,
            "_view_module": "@jupyter-widgets/base",
            "_view_module_version": "1.2.0",
            "_view_name": "LayoutView",
            "align_content": null,
            "align_items": null,
            "align_self": null,
            "border": null,
            "bottom": null,
            "display": null,
            "flex": null,
            "flex_flow": null,
            "grid_area": null,
            "grid_auto_columns": null,
            "grid_auto_flow": null,
            "grid_auto_rows": null,
            "grid_column": null,
            "grid_gap": null,
            "grid_row": null,
            "grid_template_areas": null,
            "grid_template_columns": null,
            "grid_template_rows": null,
            "height": null,
            "justify_content": null,
            "justify_items": null,
            "left": null,
            "margin": null,
            "max_height": null,
            "max_width": null,
            "min_height": null,
            "min_width": null,
            "object_fit": null,
            "object_position": null,
            "order": null,
            "overflow": null,
            "overflow_x": null,
            "overflow_y": null,
            "padding": null,
            "right": null,
            "top": null,
            "visibility": null,
            "width": null
          }
        },
        "bd3ea585d3744cd6bf16b831fbc636e0": {
          "model_module": "@jupyter-widgets/base",
          "model_module_version": "1.2.0",
          "model_name": "LayoutModel",
          "state": {
            "_model_module": "@jupyter-widgets/base",
            "_model_module_version": "1.2.0",
            "_model_name": "LayoutModel",
            "_view_count": null,
            "_view_module": "@jupyter-widgets/base",
            "_view_module_version": "1.2.0",
            "_view_name": "LayoutView",
            "align_content": null,
            "align_items": null,
            "align_self": null,
            "border": null,
            "bottom": null,
            "display": null,
            "flex": null,
            "flex_flow": null,
            "grid_area": null,
            "grid_auto_columns": null,
            "grid_auto_flow": null,
            "grid_auto_rows": null,
            "grid_column": null,
            "grid_gap": null,
            "grid_row": null,
            "grid_template_areas": null,
            "grid_template_columns": null,
            "grid_template_rows": null,
            "height": null,
            "justify_content": null,
            "justify_items": null,
            "left": null,
            "margin": null,
            "max_height": null,
            "max_width": null,
            "min_height": null,
            "min_width": null,
            "object_fit": null,
            "object_position": null,
            "order": null,
            "overflow": null,
            "overflow_x": null,
            "overflow_y": null,
            "padding": null,
            "right": null,
            "top": null,
            "visibility": null,
            "width": null
          }
        },
        "c82a1a9c4be34e51b6244feebd65604d": {
          "model_module": "@jupyter-widgets/controls",
          "model_module_version": "1.5.0",
          "model_name": "DescriptionStyleModel",
          "state": {
            "_model_module": "@jupyter-widgets/controls",
            "_model_module_version": "1.5.0",
            "_model_name": "DescriptionStyleModel",
            "_view_count": null,
            "_view_module": "@jupyter-widgets/base",
            "_view_module_version": "1.2.0",
            "_view_name": "StyleView",
            "description_width": ""
          }
        },
        "ce7f50e48f0542998892bfd55fd96f64": {
          "model_module": "@jupyter-widgets/base",
          "model_module_version": "1.2.0",
          "model_name": "LayoutModel",
          "state": {
            "_model_module": "@jupyter-widgets/base",
            "_model_module_version": "1.2.0",
            "_model_name": "LayoutModel",
            "_view_count": null,
            "_view_module": "@jupyter-widgets/base",
            "_view_module_version": "1.2.0",
            "_view_name": "LayoutView",
            "align_content": null,
            "align_items": null,
            "align_self": null,
            "border": null,
            "bottom": null,
            "display": null,
            "flex": null,
            "flex_flow": null,
            "grid_area": null,
            "grid_auto_columns": null,
            "grid_auto_flow": null,
            "grid_auto_rows": null,
            "grid_column": null,
            "grid_gap": null,
            "grid_row": null,
            "grid_template_areas": null,
            "grid_template_columns": null,
            "grid_template_rows": null,
            "height": null,
            "justify_content": null,
            "justify_items": null,
            "left": null,
            "margin": null,
            "max_height": null,
            "max_width": null,
            "min_height": null,
            "min_width": null,
            "object_fit": null,
            "object_position": null,
            "order": null,
            "overflow": null,
            "overflow_x": null,
            "overflow_y": null,
            "padding": null,
            "right": null,
            "top": null,
            "visibility": null,
            "width": null
          }
        },
        "d41110c12e7f42ca9116457b16a2ac6e": {
          "model_module": "@jupyter-widgets/controls",
          "model_module_version": "1.5.0",
          "model_name": "FloatProgressModel",
          "state": {
            "_dom_classes": [],
            "_model_module": "@jupyter-widgets/controls",
            "_model_module_version": "1.5.0",
            "_model_name": "FloatProgressModel",
            "_view_count": null,
            "_view_module": "@jupyter-widgets/controls",
            "_view_module_version": "1.5.0",
            "_view_name": "ProgressView",
            "bar_style": "success",
            "description": "",
            "description_tooltip": null,
            "layout": "IPY_MODEL_2dbad4bea87a49308e001d90fa3e75ec",
            "max": 480199,
            "min": 0,
            "orientation": "horizontal",
            "style": "IPY_MODEL_a59261c96fc244048055751ce95dfa57",
            "value": 480199
          }
        },
        "d4e62f6e599b43d4b8cfd1551bbcbb85": {
          "model_module": "@jupyter-widgets/controls",
          "model_module_version": "1.5.0",
          "model_name": "HBoxModel",
          "state": {
            "_dom_classes": [],
            "_model_module": "@jupyter-widgets/controls",
            "_model_module_version": "1.5.0",
            "_model_name": "HBoxModel",
            "_view_count": null,
            "_view_module": "@jupyter-widgets/controls",
            "_view_module_version": "1.5.0",
            "_view_name": "HBoxView",
            "box_style": "",
            "children": [
              "IPY_MODEL_698d89b8c369477cba482bb8b7d6ccd0",
              "IPY_MODEL_0688a8082d14433db64ccccb2e4fbd41",
              "IPY_MODEL_ecedc867ddd44495bed492661b2a0f6c"
            ],
            "layout": "IPY_MODEL_297c4c8d5ef74f9d941a97afc59254b4"
          }
        },
        "d62c7cb0c89e4be8bd2f0c6c79db4b00": {
          "model_module": "@jupyter-widgets/controls",
          "model_module_version": "1.5.0",
          "model_name": "HTMLModel",
          "state": {
            "_dom_classes": [],
            "_model_module": "@jupyter-widgets/controls",
            "_model_module_version": "1.5.0",
            "_model_name": "HTMLModel",
            "_view_count": null,
            "_view_module": "@jupyter-widgets/controls",
            "_view_module_version": "1.5.0",
            "_view_name": "HTMLView",
            "description": "",
            "description_tooltip": null,
            "layout": "IPY_MODEL_5171125680824453b3759ffc2ef06d13",
            "placeholder": "​",
            "style": "IPY_MODEL_23ac61e75db74da8b95cf41eb56a1df1",
            "value": " 648/648 [00:00&lt;00:00, 18.5kB/s]"
          }
        },
        "dac1235f8e35400c852075e435e831e5": {
          "model_module": "@jupyter-widgets/controls",
          "model_module_version": "1.5.0",
          "model_name": "DescriptionStyleModel",
          "state": {
            "_model_module": "@jupyter-widgets/controls",
            "_model_module_version": "1.5.0",
            "_model_name": "DescriptionStyleModel",
            "_view_count": null,
            "_view_module": "@jupyter-widgets/base",
            "_view_module_version": "1.2.0",
            "_view_name": "StyleView",
            "description_width": ""
          }
        },
        "ecedc867ddd44495bed492661b2a0f6c": {
          "model_module": "@jupyter-widgets/controls",
          "model_module_version": "1.5.0",
          "model_name": "HTMLModel",
          "state": {
            "_dom_classes": [],
            "_model_module": "@jupyter-widgets/controls",
            "_model_module_version": "1.5.0",
            "_model_name": "HTMLModel",
            "_view_count": null,
            "_view_module": "@jupyter-widgets/controls",
            "_view_module_version": "1.5.0",
            "_view_name": "HTMLView",
            "description": "",
            "description_tooltip": null,
            "layout": "IPY_MODEL_05bd3ee002f14111a4b8e590d4bcd0a3",
            "placeholder": "​",
            "style": "IPY_MODEL_5c8b3a9540aa4f2ca20961b2ba840ce6",
            "value": " 364/364 [00:00&lt;00:00, 17.1kB/s]"
          }
        },
        "f147298b6d334249bfff60e515d025dc": {
          "model_module": "@jupyter-widgets/base",
          "model_module_version": "1.2.0",
          "model_name": "LayoutModel",
          "state": {
            "_model_module": "@jupyter-widgets/base",
            "_model_module_version": "1.2.0",
            "_model_name": "LayoutModel",
            "_view_count": null,
            "_view_module": "@jupyter-widgets/base",
            "_view_module_version": "1.2.0",
            "_view_name": "LayoutView",
            "align_content": null,
            "align_items": null,
            "align_self": null,
            "border": null,
            "bottom": null,
            "display": null,
            "flex": null,
            "flex_flow": null,
            "grid_area": null,
            "grid_auto_columns": null,
            "grid_auto_flow": null,
            "grid_auto_rows": null,
            "grid_column": null,
            "grid_gap": null,
            "grid_row": null,
            "grid_template_areas": null,
            "grid_template_columns": null,
            "grid_template_rows": null,
            "height": null,
            "justify_content": null,
            "justify_items": null,
            "left": null,
            "margin": null,
            "max_height": null,
            "max_width": null,
            "min_height": null,
            "min_width": null,
            "object_fit": null,
            "object_position": null,
            "order": null,
            "overflow": null,
            "overflow_x": null,
            "overflow_y": null,
            "padding": null,
            "right": null,
            "top": null,
            "visibility": null,
            "width": null
          }
        },
        "f62bc27e94304338b6eccbda7e45712b": {
          "model_module": "@jupyter-widgets/controls",
          "model_module_version": "1.5.0",
          "model_name": "FloatProgressModel",
          "state": {
            "_dom_classes": [],
            "_model_module": "@jupyter-widgets/controls",
            "_model_module_version": "1.5.0",
            "_model_name": "FloatProgressModel",
            "_view_count": null,
            "_view_module": "@jupyter-widgets/controls",
            "_view_module_version": "1.5.0",
            "_view_name": "ProgressView",
            "bar_style": "success",
            "description": "",
            "description_tooltip": null,
            "layout": "IPY_MODEL_a434feacfa904edf81be186d81b1daeb",
            "max": 241796,
            "min": 0,
            "orientation": "horizontal",
            "style": "IPY_MODEL_350cc823755c4b81a624d70b77167e8b",
            "value": 241796
          }
        },
        "f76293bc5a3042c89a3c8de2536a7187": {
          "model_module": "@jupyter-widgets/controls",
          "model_module_version": "1.5.0",
          "model_name": "DescriptionStyleModel",
          "state": {
            "_model_module": "@jupyter-widgets/controls",
            "_model_module_version": "1.5.0",
            "_model_name": "DescriptionStyleModel",
            "_view_count": null,
            "_view_module": "@jupyter-widgets/base",
            "_view_module_version": "1.2.0",
            "_view_name": "StyleView",
            "description_width": ""
          }
        },
        "fb09a7be261947cb8366262f613f7c3b": {
          "model_module": "@jupyter-widgets/controls",
          "model_module_version": "1.5.0",
          "model_name": "FloatProgressModel",
          "state": {
            "_dom_classes": [],
            "_model_module": "@jupyter-widgets/controls",
            "_model_module_version": "1.5.0",
            "_model_name": "FloatProgressModel",
            "_view_count": null,
            "_view_module": "@jupyter-widgets/controls",
            "_view_module_version": "1.5.0",
            "_view_name": "ProgressView",
            "bar_style": "success",
            "description": "",
            "description_tooltip": null,
            "layout": "IPY_MODEL_f147298b6d334249bfff60e515d025dc",
            "max": 134,
            "min": 0,
            "orientation": "horizontal",
            "style": "IPY_MODEL_6f71ce90d0b849d28c7743fb30fece33",
            "value": 134
          }
        },
        "fffe043f85de46228cb937502c326202": {
          "model_module": "@jupyter-widgets/controls",
          "model_module_version": "1.5.0",
          "model_name": "HBoxModel",
          "state": {
            "_dom_classes": [],
            "_model_module": "@jupyter-widgets/controls",
            "_model_module_version": "1.5.0",
            "_model_name": "HBoxModel",
            "_view_count": null,
            "_view_module": "@jupyter-widgets/controls",
            "_view_module_version": "1.5.0",
            "_view_name": "HBoxView",
            "box_style": "",
            "children": [
              "IPY_MODEL_50e9c0878004427ea517281bd74b4f9f",
              "IPY_MODEL_f62bc27e94304338b6eccbda7e45712b",
              "IPY_MODEL_1a1f133f8e884751953b87dc034cfe26"
            ],
            "layout": "IPY_MODEL_b212052219864d6687474133c3bedb7c"
          }
        }
      }
    }
  },
  "nbformat": 4,
  "nbformat_minor": 0
}
