{
 "cells": [
  {
   "cell_type": "code",
   "execution_count": 1,
   "metadata": {},
   "outputs": [],
   "source": [
    "# Importar los archivos del archivo 'productos.jason'\n",
    "import json\n",
    "import pandas as pd"
   ]
  },
  {
   "cell_type": "code",
   "execution_count": null,
   "metadata": {},
   "outputs": [
    {
     "name": "stdout",
     "output_type": "stream",
     "text": [
      "             @context    @type                                         name  \\\n",
      "0  https://schema.org  Product     Canon EF 70-200mm f/2.8L IS III USM Lens   \n",
      "1  https://schema.org  Product  Nikon AF-S NIKKOR 24-70mm f/2.8E ED VR Lens   \n",
      "\n",
      "                                                 url  \\\n",
      "0  https://www.bhphotovideo.com/c/product/1414599...   \n",
      "1  https://www.bhphotovideo.com/c/product/1175033...   \n",
      "\n",
      "                                               image          sku       mpn  \\\n",
      "0  https://www.bhphotovideo.com/images/fb/canon_3...  CA7020028L3  3044C002   \n",
      "1  https://www.bhphotovideo.com/images/fb/nikon_a...   NI247028VR     20052   \n",
      "\n",
      "                                         description  \\\n",
      "0  One of the most versatile lenses available, th...   \n",
      "1  The classic standard zoom now featuring Vibrat...   \n",
      "\n",
      "                                 brand review  \\\n",
      "0  {'@type': 'Brand', 'name': 'Canon'}     []   \n",
      "1  {'@type': 'Brand', 'name': 'Nikon'}     []   \n",
      "\n",
      "                                     aggregateRating  \\\n",
      "0  {'@type': 'AggregateRating', 'ratingValue': 4....   \n",
      "1  {'@type': 'AggregateRating', 'ratingValue': 4....   \n",
      "\n",
      "                                              offers  \n",
      "0  {'@type': 'Offer', 'url': 'https://www.bhphoto...  \n",
      "1  {'@type': 'Offer', 'url': 'https://www.bhphoto...  \n"
     ]
    }
   ],
   "source": [
    "df = pd.read_json('../Datos/productos.json')"
   ]
  },
  {
   "cell_type": "code",
   "execution_count": 4,
   "metadata": {},
   "outputs": [
    {
     "data": {
      "application/vnd.microsoft.datawrangler.viewer.v0+json": {
       "columns": [
        {
         "name": "index",
         "rawType": "int64",
         "type": "integer"
        },
        {
         "name": "@context",
         "rawType": "object",
         "type": "string"
        },
        {
         "name": "@type",
         "rawType": "object",
         "type": "string"
        },
        {
         "name": "name",
         "rawType": "object",
         "type": "string"
        },
        {
         "name": "url",
         "rawType": "object",
         "type": "string"
        },
        {
         "name": "image",
         "rawType": "object",
         "type": "string"
        },
        {
         "name": "sku",
         "rawType": "object",
         "type": "string"
        },
        {
         "name": "mpn",
         "rawType": "object",
         "type": "string"
        },
        {
         "name": "description",
         "rawType": "object",
         "type": "string"
        },
        {
         "name": "brand",
         "rawType": "object",
         "type": "unknown"
        },
        {
         "name": "review",
         "rawType": "object",
         "type": "unknown"
        },
        {
         "name": "aggregateRating",
         "rawType": "object",
         "type": "unknown"
        },
        {
         "name": "offers",
         "rawType": "object",
         "type": "unknown"
        }
       ],
       "conversionMethod": "pd.DataFrame",
       "ref": "39414207-916d-4080-8b02-5872e798bed3",
       "rows": [
        [
         "0",
         "https://schema.org",
         "Product",
         "Canon EF 70-200mm f/2.8L IS III USM Lens",
         "https://www.bhphotovideo.com/c/product/1414599-REG/canon_3044c002_ef_70_200mm_f_2_8l_is.html",
         "https://www.bhphotovideo.com/images/fb/canon_3044c002_ef_70_200mm_f_2_8l_is_1414599.jpg",
         "CA7020028L3",
         "3044C002",
         "One of the most versatile lenses available, the <b>EF 70-200mm f/2.8L IS III USM</b> from <b>Canon</b> is an L-series telephoto zoom distinguished by its bright design and advanced optics. Ideal for a variety of subjects ranging from portraiture to sports, the fast constant f/2.8 maximum aperture excels in difficult lighting conditions and also offers increased control over depth of field for isolating subjects. The optical layout makes use of one fluorite element and five UD elements to suppress chromatic aberrations and color fringing in order to realize a high degree of clarity throughout the zoom range. An Air Sphere Coating is also featured, and works to reduce flare and ghosting for greater color fidelity and contrast in all conditions.",
         "{'@type': 'Brand', 'name': 'Canon'}",
         "[]",
         "{'@type': 'AggregateRating', 'ratingValue': 4.9, 'reviewCount': 270, 'bestRating': 5}",
         "{'@type': 'Offer', 'url': 'https://www.bhphotovideo.com/c/product/1414599-REG/canon_3044c002_ef_70_200mm_f_2_8l_is.html', 'itemCondition': 'https://schema.org/NewCondition', 'priceCurrency': 'USD', 'price': '2099.00', 'availability': 'https://schema.org/InStock', 'priceValidUntil': None}"
        ],
        [
         "1",
         "https://schema.org",
         "Product",
         "Nikon AF-S NIKKOR 24-70mm f/2.8E ED VR Lens",
         "https://www.bhphotovideo.com/c/product/1175033-REG/nikon_af_s_nikkor_24_70mm_f_2_8e.html",
         "https://www.bhphotovideo.com/images/fb/nikon_af_s_nikkor_24_70mm_f_2_8e_1175033.jpg",
         "NI247028VR",
         "20052",
         "The classic standard zoom now featuring Vibration Reduction image stabilization, <b>Nikon's AF-S NIKKOR 24-70mm f/2.8E ED VR Lens</b> is a truly versatile wide-angle to short telephoto lens characterized by its constant f/2.8 maximum aperture and electromagnetic aperture mechanism. A revised optical design incorporates a unique aspherical extra-low dispersion element, in addition to three aspherical, two extra-low dispersion, and one high refractive index elements, to help reduce chromatic aberrations and distortions throughout the zoom range in order to achieve high image sharpness and clarity. The Nano Crystal and Super Integrated Coatings further benefit image quality by reducing lens flare for improved contrast and color accuracy and fluorine coatings on the front and rear elements protect against dust, moisture, and smudging.",
         "{'@type': 'Brand', 'name': 'Nikon'}",
         "[]",
         "{'@type': 'AggregateRating', 'ratingValue': 4.6, 'reviewCount': 333, 'bestRating': 5}",
         "{'@type': 'Offer', 'url': 'https://www.bhphotovideo.com/c/product/1175033-REG/nikon_af_s_nikkor_24_70mm_f_2_8e.html', 'itemCondition': 'https://schema.org/NewCondition', 'priceCurrency': 'USD', 'price': '1596.95', 'availability': 'https://schema.org/InStock', 'priceValidUntil': None}"
        ]
       ],
       "shape": {
        "columns": 12,
        "rows": 2
       }
      },
      "text/html": [
       "<div>\n",
       "<style scoped>\n",
       "    .dataframe tbody tr th:only-of-type {\n",
       "        vertical-align: middle;\n",
       "    }\n",
       "\n",
       "    .dataframe tbody tr th {\n",
       "        vertical-align: top;\n",
       "    }\n",
       "\n",
       "    .dataframe thead th {\n",
       "        text-align: right;\n",
       "    }\n",
       "</style>\n",
       "<table border=\"1\" class=\"dataframe\">\n",
       "  <thead>\n",
       "    <tr style=\"text-align: right;\">\n",
       "      <th></th>\n",
       "      <th>@context</th>\n",
       "      <th>@type</th>\n",
       "      <th>name</th>\n",
       "      <th>url</th>\n",
       "      <th>image</th>\n",
       "      <th>sku</th>\n",
       "      <th>mpn</th>\n",
       "      <th>description</th>\n",
       "      <th>brand</th>\n",
       "      <th>review</th>\n",
       "      <th>aggregateRating</th>\n",
       "      <th>offers</th>\n",
       "    </tr>\n",
       "  </thead>\n",
       "  <tbody>\n",
       "    <tr>\n",
       "      <th>0</th>\n",
       "      <td>https://schema.org</td>\n",
       "      <td>Product</td>\n",
       "      <td>Canon EF 70-200mm f/2.8L IS III USM Lens</td>\n",
       "      <td>https://www.bhphotovideo.com/c/product/1414599...</td>\n",
       "      <td>https://www.bhphotovideo.com/images/fb/canon_3...</td>\n",
       "      <td>CA7020028L3</td>\n",
       "      <td>3044C002</td>\n",
       "      <td>One of the most versatile lenses available, th...</td>\n",
       "      <td>{'@type': 'Brand', 'name': 'Canon'}</td>\n",
       "      <td>[]</td>\n",
       "      <td>{'@type': 'AggregateRating', 'ratingValue': 4....</td>\n",
       "      <td>{'@type': 'Offer', 'url': 'https://www.bhphoto...</td>\n",
       "    </tr>\n",
       "    <tr>\n",
       "      <th>1</th>\n",
       "      <td>https://schema.org</td>\n",
       "      <td>Product</td>\n",
       "      <td>Nikon AF-S NIKKOR 24-70mm f/2.8E ED VR Lens</td>\n",
       "      <td>https://www.bhphotovideo.com/c/product/1175033...</td>\n",
       "      <td>https://www.bhphotovideo.com/images/fb/nikon_a...</td>\n",
       "      <td>NI247028VR</td>\n",
       "      <td>20052</td>\n",
       "      <td>The classic standard zoom now featuring Vibrat...</td>\n",
       "      <td>{'@type': 'Brand', 'name': 'Nikon'}</td>\n",
       "      <td>[]</td>\n",
       "      <td>{'@type': 'AggregateRating', 'ratingValue': 4....</td>\n",
       "      <td>{'@type': 'Offer', 'url': 'https://www.bhphoto...</td>\n",
       "    </tr>\n",
       "  </tbody>\n",
       "</table>\n",
       "</div>"
      ],
      "text/plain": [
       "             @context    @type                                         name  \\\n",
       "0  https://schema.org  Product     Canon EF 70-200mm f/2.8L IS III USM Lens   \n",
       "1  https://schema.org  Product  Nikon AF-S NIKKOR 24-70mm f/2.8E ED VR Lens   \n",
       "\n",
       "                                                 url  \\\n",
       "0  https://www.bhphotovideo.com/c/product/1414599...   \n",
       "1  https://www.bhphotovideo.com/c/product/1175033...   \n",
       "\n",
       "                                               image          sku       mpn  \\\n",
       "0  https://www.bhphotovideo.com/images/fb/canon_3...  CA7020028L3  3044C002   \n",
       "1  https://www.bhphotovideo.com/images/fb/nikon_a...   NI247028VR     20052   \n",
       "\n",
       "                                         description  \\\n",
       "0  One of the most versatile lenses available, th...   \n",
       "1  The classic standard zoom now featuring Vibrat...   \n",
       "\n",
       "                                 brand review  \\\n",
       "0  {'@type': 'Brand', 'name': 'Canon'}     []   \n",
       "1  {'@type': 'Brand', 'name': 'Nikon'}     []   \n",
       "\n",
       "                                     aggregateRating  \\\n",
       "0  {'@type': 'AggregateRating', 'ratingValue': 4....   \n",
       "1  {'@type': 'AggregateRating', 'ratingValue': 4....   \n",
       "\n",
       "                                              offers  \n",
       "0  {'@type': 'Offer', 'url': 'https://www.bhphoto...  \n",
       "1  {'@type': 'Offer', 'url': 'https://www.bhphoto...  "
      ]
     },
     "execution_count": 4,
     "metadata": {},
     "output_type": "execute_result"
    }
   ],
   "source": [
    "df.head()"
   ]
  }
 ],
 "metadata": {
  "kernelspec": {
   "display_name": "inv_MercadoLibre",
   "language": "python",
   "name": "python3"
  },
  "language_info": {
   "codemirror_mode": {
    "name": "ipython",
    "version": 3
   },
   "file_extension": ".py",
   "mimetype": "text/x-python",
   "name": "python",
   "nbconvert_exporter": "python",
   "pygments_lexer": "ipython3",
   "version": "3.11.11"
  }
 },
 "nbformat": 4,
 "nbformat_minor": 2
}
