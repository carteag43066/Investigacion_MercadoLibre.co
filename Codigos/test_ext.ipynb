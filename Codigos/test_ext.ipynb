{
 "cells": [
  {
   "cell_type": "code",
   "execution_count": 6,
   "id": "f1635d21",
   "metadata": {},
   "outputs": [],
   "source": [
    "# Librerias necesarias para la extraccion de datos\n",
    "import pandas as pd\n",
    "import requests\n",
    "from bs4 import BeautifulSoup\n",
    "import re"
   ]
  },
  {
   "cell_type": "code",
   "execution_count": 7,
   "id": "ce1684f6",
   "metadata": {},
   "outputs": [],
   "source": [
    "# ✅ Tu API KEY de ScraperAPI (obtén una en https://www.scraperapi.com/)\n",
    "SCRAPER_API_KEY = 'c2179c00505c26c3dfd7776178da79b5'\n",
    "SCRAPER_API_URL = f'http://api.scraperapi.com/?api_key={SCRAPER_API_KEY}&url={{}}'"
   ]
  },
  {
   "cell_type": "code",
   "execution_count": 8,
   "id": "744d6fdf",
   "metadata": {},
   "outputs": [],
   "source": [
    "# testear si se puede scrapear un elemneto de la url.\n",
    "\n",
    "# Definimos la URL de la página web que queremos scrapear\n",
    "url = 'https://articulo.mercadolibre.com.co/MCO-2221756194-zapatos-antideslizantes-marca-evacol-n-167-negro-blanco-azul-_JM?searchVariation=179885088470#polycard_client=search-nordic&searchVariation=179885088470&position=27&search_layout=grid&type=item&tracking_id=b7154192-f95f-4a7b-bcca-ab9c7059a4de'\n",
    "\n",
    "# Define headers, para simulación de un navegador y evitar bloqueos.\n",
    "headers = {\n",
    "    'User-Agent': 'Mozilla/5.0 (Windows NT 10.0; Win64; x64) AppleWebKit/537.36 (KHTML, like Gecko) Chrome/91.0.4472.124 Safari/537.36'\n",
    "}\n",
    "\n",
    "# lista vacia para almacenar los datos.\n",
    "\n",
    "data_producto = []\n",
    "\n",
    "response = requests.get(SCRAPER_API_URL.format(url))\n",
    "\n",
    "soup = BeautifulSoup(response.text, 'html.parser')\n",
    "\n",
    "\n",
    "\n"
   ]
  },
  {
   "cell_type": "markdown",
   "id": "1c0ed86c",
   "metadata": {},
   "source": [
    "### Clase para extraer candidad de vendidos."
   ]
  },
  {
   "cell_type": "code",
   "execution_count": 9,
   "id": "d96df518",
   "metadata": {},
   "outputs": [],
   "source": [
    "# Extraer cantidad de productos cendidos. \n",
    "\n",
    "vendidos_cant = soup.find('div', {'class' :'ui-pdp-header__subtitle' })\n",
    "vendidos = vendidos_cant.text.strip() if vendidos_cant else \"No disponible\""
   ]
  },
  {
   "cell_type": "code",
   "execution_count": 10,
   "id": "06f4a249",
   "metadata": {},
   "outputs": [
    {
     "data": {
      "text/plain": [
       "'Nuevo  |  +100 vendidos'"
      ]
     },
     "execution_count": 10,
     "metadata": {},
     "output_type": "execute_result"
    }
   ],
   "source": [
    "vendidos"
   ]
  },
  {
   "cell_type": "code",
   "execution_count": 11,
   "id": "f9a20502",
   "metadata": {},
   "outputs": [],
   "source": [
    "comentarios_cant = soup.find('span',{'class' : 'total-opinion'})\n",
    "comentarios = comentarios_cant.text.strip() if comentarios_cant else 'No disponible'"
   ]
  },
  {
   "cell_type": "code",
   "execution_count": 12,
   "id": "a8c8682a",
   "metadata": {},
   "outputs": [
    {
     "data": {
      "text/plain": [
       "'13 comentarios'"
      ]
     },
     "execution_count": 12,
     "metadata": {},
     "output_type": "execute_result"
    }
   ],
   "source": [
    "comentarios"
   ]
  },
  {
   "cell_type": "code",
   "execution_count": null,
   "id": "07b6dd2a",
   "metadata": {},
   "outputs": [],
   "source": []
  }
 ],
 "metadata": {
  "kernelspec": {
   "display_name": "inv_MercadoLibre",
   "language": "python",
   "name": "python3"
  },
  "language_info": {
   "codemirror_mode": {
    "name": "ipython",
    "version": 3
   },
   "file_extension": ".py",
   "mimetype": "text/x-python",
   "name": "python",
   "nbconvert_exporter": "python",
   "pygments_lexer": "ipython3",
   "version": "3.11.11"
  }
 },
 "nbformat": 4,
 "nbformat_minor": 5
}
