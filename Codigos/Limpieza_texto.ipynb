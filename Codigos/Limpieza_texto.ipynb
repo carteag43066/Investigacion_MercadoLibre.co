{
 "cells": [
  {
   "cell_type": "markdown",
   "metadata": {},
   "source": [
    "# Limpieza de comentarios."
   ]
  },
  {
   "cell_type": "code",
   "execution_count": 1,
   "metadata": {},
   "outputs": [],
   "source": [
    "# Este codigo tiene la funcion de leer un archivo .txt con los comentarios extraidos de forma manual desde el link de cada producto. posteriri a esto los limpia dejando unicamente los comentarios como informacion relevante."
   ]
  },
  {
   "cell_type": "markdown",
   "metadata": {},
   "source": [
    "### Obtener comentarios limpios (solo comentarios)"
   ]
  },
  {
   "cell_type": "code",
   "execution_count": null,
   "metadata": {},
   "outputs": [
    {
     "name": "stdout",
     "output_type": "stream",
     "text": [
      "Limpieza completada. Comentarios guardados en: ../Datos/Comentarios_Limpios_Mar6.txt\n"
     ]
    }
   ],
   "source": [
    "import re\n",
    "\n",
    "# Ruta del archivo de comentarios (ajusta la ruta si es necesario)\n",
    "input_file = \"../Datos/Comentarios_tot_raw.txt\"  # Cambia por el nombre real de tu archivo\n",
    "output_file = \"../Datos/Comentarios_Limpios.txt\"\n",
    "\n",
    "# Palabras clave a eliminar\n",
    "ignore_keywords = [\"Es útil\", \"Reportar\", \"Calificación\", \"Resumen de opiniones generado por IA\", \"comentarios\",\"Opiniones destacadas\"]\n",
    "\n",
    "# Expresión regular para detectar fechas en formatos como \"16 may. 2024\" o \"25 feb. 2021\"\n",
    "fecha_regex = r\"\\b\\d{1,2} (ene|feb|mar|abr|may|jun|jul|ago|sep|oct|nov|dic)\\.? \\d{4}\\b\"\n",
    "\n",
    "# Lista para almacenar comentarios filtrados\n",
    "cleaned_comments = []\n",
    "\n",
    "# Leer el archivo y limpiar\n",
    "with open(input_file, \"r\", encoding=\"utf-8\") as file:\n",
    "    lines = file.readlines()\n",
    "\n",
    "    for line in lines:\n",
    "        line = line.strip()  # Eliminar espacios extra\n",
    "        # Filtrar líneas irrelevantes\n",
    "        if not any(keyword in line for keyword in ignore_keywords) and len(line) > 5:\n",
    "            # Eliminar fechas del comentario\n",
    "            line = re.sub(fecha_regex, \"\", line).strip()\n",
    "            if line:  # Si después de eliminar la fecha sigue habiendo texto, agregarlo\n",
    "                cleaned_comments.append(line)\n",
    "\n",
    "# Guardar comentarios limpios en un nuevo archivo\n",
    "with open(output_file, \"w\", encoding=\"utf-8\") as file:\n",
    "    for comment in cleaned_comments:\n",
    "        file.write(comment + \"\\n\")\n",
    "\n",
    "print(f\"Limpieza completada. Comentarios guardados en: {output_file}\")\n"
   ]
  },
  {
   "cell_type": "markdown",
   "metadata": {},
   "source": [
    "### Obtener Fecha, comentarios y calificacion (Datos estructurados)"
   ]
  },
  {
   "cell_type": "code",
   "execution_count": 1,
   "metadata": {},
   "outputs": [
    {
     "name": "stdout",
     "output_type": "stream",
     "text": [
      "Archivos exportados exitosamente:\n",
      "- ../Datos/Comentarios_Estructurados_p2.csv\n",
      "- ../Datos/Comentarios_Estructurados_p2.xlsx\n"
     ]
    }
   ],
   "source": [
    "import re\n",
    "import pandas as pd\n",
    "\n",
    "# === CONFIGURACIÓN ===\n",
    "input_file = \"../Datos/Comentarios_tot_raw_abril_17.txt\"  \n",
    "output_file_csv = \"../Datos/Comentarios_Estructurados_p2.csv\"\n",
    "output_file_excel = \"../Datos/Comentarios_Estructurados_p2.xlsx\"\n",
    "\n",
    "# === EXPRESIONES REGULARES ===\n",
    "fecha_regex = r\"\\b\\d{1,2} (ene|feb|mar|abr|may|jun|jul|ago|sep|oct|nov|dic)\\.? \\d{4}\\b\"\n",
    "calificacion_regex = r\"Calificación\\s+(\\d+)\\s+de\\s+5\"\n",
    "\n",
    "# === PROCESAMIENTO ===\n",
    "with open(input_file, \"r\", encoding=\"utf-8\") as file:\n",
    "    lines = file.readlines()\n",
    "\n",
    "data = []\n",
    "i = 0\n",
    "\n",
    "while i < len(lines):\n",
    "    line = lines[i].strip()\n",
    "\n",
    "    # Detectar calificación\n",
    "    calif_match = re.match(calificacion_regex, line)\n",
    "    if calif_match:\n",
    "        calificacion = int(calif_match.group(1))\n",
    "\n",
    "        # Línea siguiente debería ser la fecha\n",
    "        i += 1\n",
    "        fecha = None\n",
    "        if i < len(lines):\n",
    "            fecha_match = re.match(fecha_regex, lines[i].strip())\n",
    "            if fecha_match:\n",
    "                fecha = fecha_match.group()\n",
    "\n",
    "        # Línea siguiente debería ser el comentario\n",
    "        i += 1\n",
    "        comentario = None\n",
    "        if i < len(lines):\n",
    "            comentario = lines[i].strip()\n",
    "\n",
    "        if fecha and calificacion and comentario:\n",
    "            data.append((fecha, calificacion, comentario))\n",
    "\n",
    "    i += 1\n",
    "\n",
    "# === GUARDAR RESULTADOS ===\n",
    "df = pd.DataFrame(data, columns=[\"fecha\", \"calificacion\", \"comentario\"])\n",
    "df.to_csv(output_file_csv, index=False, encoding='utf-8')\n",
    "df.to_excel(output_file_excel, index=False)\n",
    "\n",
    "print(f\"Archivos exportados exitosamente:\\n- {output_file_csv}\\n- {output_file_excel}\")"
   ]
  }
 ],
 "metadata": {
  "kernelspec": {
   "display_name": "inv_MercadoLibre",
   "language": "python",
   "name": "python3"
  },
  "language_info": {
   "codemirror_mode": {
    "name": "ipython",
    "version": 3
   },
   "file_extension": ".py",
   "mimetype": "text/x-python",
   "name": "python",
   "nbconvert_exporter": "python",
   "pygments_lexer": "ipython3",
   "version": "3.11.11"
  }
 },
 "nbformat": 4,
 "nbformat_minor": 2
}
